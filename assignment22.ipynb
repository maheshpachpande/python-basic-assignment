{
  "cells": [
    {
      "cell_type": "markdown",
      "id": "liberal-account",
      "metadata": {
        "id": "liberal-account"
      },
      "source": [
        "<b>Number 1 - \n",
        "- Question -\n",
        "    \n",
        "> What is the result of the code, and explain?\n",
        "\n",
        "> X = 'iNeuron'\n",
        "    \n",
        "> def func():\n",
        "    \n",
        "> print(X)\n",
        "    \n",
        "> func()\n",
        "\n",
        "\n",
        "\n",
        "- Answer -\n",
        "    \n",
        "> The line, func() Call the function we defined which prints the value of X.\n",
        "\n",
        "    \n"
      ]
    },
    {
      "cell_type": "code",
      "execution_count": null,
      "id": "9f4f9c8a",
      "metadata": {
        "id": "9f4f9c8a"
      },
      "outputs": [],
      "source": [
        "X = 'iNeuron'\n",
        "def func():\n",
        "    print (X)"
      ]
    },
    {
      "cell_type": "code",
      "execution_count": null,
      "id": "ac0f9e30",
      "metadata": {
        "id": "ac0f9e30",
        "outputId": "79fb0495-194f-4292-fc64-a82d117dbaeb"
      },
      "outputs": [
        {
          "name": "stdout",
          "output_type": "stream",
          "text": [
            "iNeuron\n"
          ]
        }
      ],
      "source": [
        "func()"
      ]
    },
    {
      "cell_type": "markdown",
      "id": "6c710e39",
      "metadata": {
        "id": "6c710e39"
      },
      "source": [
        "<b>------------------------------------------------------------------------------------------------------------------------------------------------------------------------------------------------------------------"
      ]
    },
    {
      "cell_type": "markdown",
      "id": "sharing-council",
      "metadata": {
        "id": "sharing-council"
      },
      "source": [
        "<b>Number 2 - \n",
        "- Question -\n",
        "    \n",
        "> What is the result of the code, and explain?\n",
        "\n",
        "> X = 'iNeuron' \n",
        "    \n",
        "> def func():\n",
        "    \n",
        "> X = 'NI!'\n",
        "\n",
        "> func()\n",
        "    \n",
        "> print(X)\n",
        "\n",
        "\n",
        "- Answer -\n",
        "    \n",
        "> The line, func() Call the function we defined, with \"NI\" as the value of X inside the funtion, but doesn't prints it, as there is no print statement inside the function.\n",
        "\n",
        "> The line, print(X), prints the value of X, which is \"iNeuron\", which is outside func().\n",
        "\n",
        "    \n"
      ]
    },
    {
      "cell_type": "code",
      "execution_count": null,
      "id": "06c4597b",
      "metadata": {
        "id": "06c4597b"
      },
      "outputs": [],
      "source": [
        "X = 'iNeuron'\n",
        "def func():\n",
        "    X = 'NI!'\n",
        "func()"
      ]
    },
    {
      "cell_type": "code",
      "execution_count": null,
      "id": "7106785f",
      "metadata": {
        "id": "7106785f",
        "outputId": "51096322-1c7f-4137-bda0-83134ef29c2c"
      },
      "outputs": [
        {
          "name": "stdout",
          "output_type": "stream",
          "text": [
            "iNeuron\n"
          ]
        }
      ],
      "source": [
        "print(X)"
      ]
    },
    {
      "cell_type": "markdown",
      "id": "92e9aeb2",
      "metadata": {
        "id": "92e9aeb2"
      },
      "source": [
        "<b>------------------------------------------------------------------------------------------------------------------------------------------------------------------------------------------------------------------"
      ]
    },
    {
      "cell_type": "markdown",
      "id": "acute-talent",
      "metadata": {
        "id": "acute-talent"
      },
      "source": [
        "<b>Number 3 - \n",
        "- Question -\n",
        "    \n",
        "> What does this code print, and why?\n",
        "\n",
        "\n",
        "> X = 'iNeuron'\n",
        "    \n",
        "> def func():\n",
        "    \n",
        "> X = 'NI'\n",
        "    \n",
        "> print(X)\n",
        "\n",
        "> func()\n",
        "    \n",
        "> print(X)\n",
        "\n",
        "\n",
        "- Answer -\n",
        "    \n",
        "> The line, func() Call the function we defined which prints the value of X, which is \"NI\" inside the funtion.\n",
        "\n",
        "> The line, print(X), prints the value of X, which is \"iNeuron\", which is outside func()."
      ]
    },
    {
      "cell_type": "code",
      "execution_count": null,
      "id": "a65bc2eb",
      "metadata": {
        "id": "a65bc2eb",
        "outputId": "92be26db-2426-4c89-ca1d-8a10ec82417a"
      },
      "outputs": [
        {
          "name": "stdout",
          "output_type": "stream",
          "text": [
            "NI!\n"
          ]
        }
      ],
      "source": [
        "X = 'iNeuron'\n",
        "def func():\n",
        "    X = 'NI!'\n",
        "    print (X)\n",
        "func()"
      ]
    },
    {
      "cell_type": "code",
      "execution_count": null,
      "id": "764baee6",
      "metadata": {
        "id": "764baee6",
        "outputId": "c4cf1c29-c90d-4aee-d624-c2796e3e4895"
      },
      "outputs": [
        {
          "name": "stdout",
          "output_type": "stream",
          "text": [
            "iNeuron\n"
          ]
        }
      ],
      "source": [
        "print(X)"
      ]
    },
    {
      "cell_type": "markdown",
      "id": "a3d51332",
      "metadata": {
        "id": "a3d51332"
      },
      "source": [
        "<b>------------------------------------------------------------------------------------------------------------------------------------------------------------------------------------------------------------------"
      ]
    },
    {
      "cell_type": "markdown",
      "id": "outdoor-setup",
      "metadata": {
        "id": "outdoor-setup"
      },
      "source": [
        "<b>Number 4\n",
        "    - \n",
        "- Question -\n",
        "    \n",
        "> What output does this code produce? Why?\n",
        "\n",
        "> X = 'iNeuron'\n",
        "    \n",
        "> def func():\n",
        "    \n",
        "> global X\n",
        "    \n",
        "> X = 'NI'\n",
        "\n",
        "> func()\n",
        "    \n",
        "> print(X)\n",
        "\n",
        "- Answer -\n",
        "    \n",
        "> The line, func() Call the function we defined, with \"NI\" as the value of X inside the funtion, but doesn't prints it, as there is no print statement inside the function, and we have used global keyword, which means, global keyword allows us to modify the variable, that is \"X\", outside of the current function.\n",
        "    \n",
        "\n",
        "> The line, print(X), prints the value of X, which is now \"NI\", as we used global keyword inside the function."
      ]
    },
    {
      "cell_type": "code",
      "execution_count": null,
      "id": "a1a94d8e",
      "metadata": {
        "id": "a1a94d8e"
      },
      "outputs": [],
      "source": [
        "X = 'iNeuron'\n",
        "def func():\n",
        "    global X\n",
        "    X = \"NI\"\n",
        "func()"
      ]
    },
    {
      "cell_type": "code",
      "execution_count": null,
      "id": "c32d7d53",
      "metadata": {
        "id": "c32d7d53",
        "outputId": "48c5f7bf-f86f-4cad-c9d2-748831bba15a"
      },
      "outputs": [
        {
          "name": "stdout",
          "output_type": "stream",
          "text": [
            "NI\n"
          ]
        }
      ],
      "source": [
        "print(X)"
      ]
    },
    {
      "cell_type": "markdown",
      "id": "545292af",
      "metadata": {
        "id": "545292af"
      },
      "source": [
        "<b>------------------------------------------------------------------------------------------------------------------------------------------------------------------------------------------------------------------"
      ]
    },
    {
      "cell_type": "markdown",
      "id": "caring-viewer",
      "metadata": {
        "id": "caring-viewer"
      },
      "source": [
        "<b>Number 5 - \n",
        "- Question -\n",
        "    \n",
        "> X = 'iNeuron'\n",
        "    \n",
        "> def func():\n",
        "    \n",
        "> X = 'NI'\n",
        "    \n",
        "> def nested():\n",
        "    \n",
        "> print(X)\n",
        "    \n",
        "> nested()\n",
        "\n",
        "> func()\n",
        "    \n",
        "> X\n",
        "\n",
        "- Answer -\n",
        "    \n",
        ">\n",
        "\n",
        "    \n"
      ]
    },
    {
      "cell_type": "code",
      "execution_count": null,
      "id": "06ad58e7",
      "metadata": {
        "id": "06ad58e7",
        "outputId": "ce9fa989-fb77-4d2f-9901-7e39c9b05244"
      },
      "outputs": [
        {
          "name": "stdout",
          "output_type": "stream",
          "text": [
            "iNeuron\n"
          ]
        }
      ],
      "source": [
        "X = 'iNeuron'\n",
        "def func():\n",
        "    X = \"NI\"\n",
        "def nested():\n",
        "    print(X)\n",
        "nested()"
      ]
    },
    {
      "cell_type": "code",
      "execution_count": null,
      "id": "4bd9b5a9",
      "metadata": {
        "id": "4bd9b5a9"
      },
      "outputs": [],
      "source": [
        "func()"
      ]
    },
    {
      "cell_type": "code",
      "execution_count": null,
      "id": "01de79d1",
      "metadata": {
        "id": "01de79d1",
        "outputId": "78f03cde-ff3c-475b-a556-cf8b3ae82dc8"
      },
      "outputs": [
        {
          "data": {
            "text/plain": [
              "'iNeuron'"
            ]
          },
          "execution_count": 24,
          "metadata": {},
          "output_type": "execute_result"
        }
      ],
      "source": [
        "X"
      ]
    },
    {
      "cell_type": "markdown",
      "id": "b34c11b7",
      "metadata": {
        "id": "b34c11b7"
      },
      "source": [
        "<b>------------------------------------------------------------------------------------------------------------------------------------------------------------------------------------------------------------------"
      ]
    },
    {
      "cell_type": "markdown",
      "id": "complimentary-cabinet",
      "metadata": {
        "id": "complimentary-cabinet"
      },
      "source": [
        "<b>Number 6 - \n",
        "- Question -\n",
        "    \n",
        "> def func():\n",
        "    \n",
        "> X = 'NI'\n",
        "    \n",
        "> def nested():\n",
        "    \n",
        "> nonlocal X\n",
        "    \n",
        "> X = 'Spam'\n",
        "    \n",
        "> nested()\n",
        "    \n",
        "> print(X)\n",
        "\n",
        "\n",
        "> func()\n",
        "\n",
        "- Answer -\n",
        "    \n",
        "> The nonlocal keyword is used to work with variables inside nested functions, where the variable should not belong to the inner function.Use the keyword nonlocal to declare that the variable is not local.\n",
        "\n",
        "    \n"
      ]
    },
    {
      "cell_type": "code",
      "execution_count": null,
      "id": "3a58bbc1",
      "metadata": {
        "id": "3a58bbc1"
      },
      "outputs": [],
      "source": [
        "def func():\n",
        "    X = 'NI'\n",
        "    def nested():\n",
        "        nonlocal X\n",
        "        X = 'Spam'\n",
        "    nested()"
      ]
    },
    {
      "cell_type": "code",
      "execution_count": null,
      "id": "928f9e40",
      "metadata": {
        "id": "928f9e40",
        "outputId": "7accb190-4390-4957-b22c-98d6f28356e8"
      },
      "outputs": [
        {
          "name": "stdout",
          "output_type": "stream",
          "text": [
            "iNeuron\n"
          ]
        }
      ],
      "source": [
        "print(X)"
      ]
    },
    {
      "cell_type": "code",
      "execution_count": null,
      "id": "b0041b6b",
      "metadata": {
        "id": "b0041b6b"
      },
      "outputs": [],
      "source": [
        "func()"
      ]
    },
    {
      "cell_type": "code",
      "execution_count": null,
      "id": "0f749856",
      "metadata": {
        "id": "0f749856",
        "outputId": "caa5e9c3-9cfa-4e44-b470-bc33652734b4"
      },
      "outputs": [
        {
          "name": "stdout",
          "output_type": "stream",
          "text": [
            "hello\n"
          ]
        }
      ],
      "source": [
        "print(myfunc1())"
      ]
    },
    {
      "cell_type": "markdown",
      "id": "23b4ea6b",
      "metadata": {
        "id": "23b4ea6b"
      },
      "source": [
        "<b>------------------------------------------------------------------------------------------------------------------------------------------------------------------------------------------------------------------"
      ]
    }
  ],
  "metadata": {
    "kernelspec": {
      "display_name": "Python 3",
      "language": "python",
      "name": "python3"
    },
    "language_info": {
      "codemirror_mode": {
        "name": "ipython",
        "version": 3
      },
      "file_extension": ".py",
      "mimetype": "text/x-python",
      "name": "python",
      "nbconvert_exporter": "python",
      "pygments_lexer": "ipython3",
      "version": "3.8.8"
    },
    "toc": {
      "base_numbering": 1,
      "nav_menu": {},
      "number_sections": true,
      "sideBar": true,
      "skip_h1_title": false,
      "title_cell": "Table of Contents",
      "title_sidebar": "Contents",
      "toc_cell": false,
      "toc_position": {},
      "toc_section_display": true,
      "toc_window_display": false
    },
    "colab": {
      "provenance": []
    }
  },
  "nbformat": 4,
  "nbformat_minor": 5
}