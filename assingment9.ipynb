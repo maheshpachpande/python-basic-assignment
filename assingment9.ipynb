{
  "nbformat": 4,
  "nbformat_minor": 0,
  "metadata": {
    "colab": {
      "provenance": []
    },
    "kernelspec": {
      "name": "python3",
      "display_name": "Python 3"
    },
    "language_info": {
      "name": "python"
    }
  },
  "cells": [
    {
      "cell_type": "code",
      "execution_count": 1,
      "metadata": {
        "id": "7-Odtp-Mu8zW"
      },
      "outputs": [],
      "source": [
        "#To what does a relative path refer?\n",
        "\n",
        "#Answer -Relative paths are relative to the current working directory."
      ]
    },
    {
      "cell_type": "code",
      "source": [
        "#What does an absolute path start with your operating system?\n",
        "\n",
        "#Answer -Absolute paths start with the root folder, such as / or C:. An absolute path always contains the root elements and the complete list of directories to locate the specific file or folder. All the information required to locate the file or folder is available in the absolute path."
      ],
      "metadata": {
        "id": "s4uLRhFQvIsq"
      },
      "execution_count": 2,
      "outputs": []
    },
    {
      "cell_type": "code",
      "source": [
        "#What do the functions os.getcwd() and os.chdir() do?\n",
        "\n",
        "#Answer -#The os.getcwd() function returns the current working directory. The os.chdir() function changes the current working directory."
      ],
      "metadata": {
        "id": "Ga3dXQvRvM1y"
      },
      "execution_count": 4,
      "outputs": []
    },
    {
      "cell_type": "code",
      "source": [
        "# What are the . and .. folders?\n",
        "\n",
        "#Answer -The . folder is the current folder, and .. is the parent folder."
      ],
      "metadata": {
        "id": "GImF6xJhvRph"
      },
      "execution_count": 5,
      "outputs": []
    },
    {
      "cell_type": "code",
      "source": [
        "# In C:\\bacon\\eggs\\spam.txt, which part is the dir name, and which part is the base name?\n",
        "\n",
        "#Answer -C:\\bacon\\eggs is the dir name, while spam.txt is the base name."
      ],
      "metadata": {
        "id": "Q8gKHy4rvXUK"
      },
      "execution_count": 6,
      "outputs": []
    },
    {
      "cell_type": "code",
      "source": [
        "#What are the three “mode” arguments that can be passed to the open() function?\n",
        "\n",
        "#Answer -The string 'r' for read mode, 'w' for write mode, and 'a' for append mode"
      ],
      "metadata": {
        "id": "sNqaXcD9vcY0"
      },
      "execution_count": 7,
      "outputs": []
    },
    {
      "cell_type": "code",
      "source": [
        "#What happens if an existing file is opened in write mode?\n",
        "\n",
        "#Answer -An existing file opened in write mode is erased and completely overwritten."
      ],
      "metadata": {
        "id": "5tKut1KQvgxj"
      },
      "execution_count": 8,
      "outputs": []
    },
    {
      "cell_type": "code",
      "source": [
        "#How do you tell the difference between read() and readlines()?\n",
        "\n",
        "#Answer -The read() method returns the file's entire contents as a single string value. The readlines() method returns a list of strings, where each string is a line from the file's contents."
      ],
      "metadata": {
        "id": "-Y9kRh6dvkzv"
      },
      "execution_count": 9,
      "outputs": []
    },
    {
      "cell_type": "code",
      "source": [
        "#What data structure does a shelf value resemble?\n",
        "\n",
        "#Answer -A shelf value resembles a dictionary value; it has keys and values, along with keys() and values() methods that work similarly to the dictionary methods of the same names."
      ],
      "metadata": {
        "id": "FCkc5tezvpFa"
      },
      "execution_count": 10,
      "outputs": []
    },
    {
      "cell_type": "code",
      "source": [],
      "metadata": {
        "id": "wMFvUp7wvtxo"
      },
      "execution_count": null,
      "outputs": []
    }
  ]
}