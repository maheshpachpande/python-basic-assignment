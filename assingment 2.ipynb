{
 "cells": [
  {
   "cell_type": "code",
   "execution_count": 1,
   "id": "af9a9fe6-7b43-46e3-8d29-cba068b582c1",
   "metadata": {},
   "outputs": [],
   "source": [
    "#1.What are the two values of the Boolean data type? How do you write them?\n",
    "#ans.== value of boolen data types are 0,1 and they are written some this way 1)True, 2}False"
   ]
  },
  {
   "cell_type": "code",
   "execution_count": 3,
   "id": "6125fc20-9d98-4af3-85d4-921f28345dc2",
   "metadata": {},
   "outputs": [],
   "source": [
    "# What are the three different types of Boolean operators?\n",
    "#types of Boolean operators are ( and , or, not )."
   ]
  },
  {
   "cell_type": "code",
   "execution_count": 6,
   "id": "1acaa5c7-6834-46e7-b39d-91a6989398bb",
   "metadata": {},
   "outputs": [],
   "source": [
    "# Make a list of each Boolean operator&#39;s truth tables (i.e. every possible combination of Boolean values for the operator and what it evaluate ).\n",
    "\n",
    "#1) table for \"and\"\n",
    "# False||False||False\n",
    "# False||True||False\n",
    "# True||True||True\n",
    "# True||False||False\n",
    "\n",
    "#2) table for \"or\"\n",
    "# False||False||False\n",
    "# False||True||True\n",
    "# True||True||True\n",
    "# True||False||True\n",
    "\n",
    "#3) table for \"not\"\n",
    "#1) False||True\n",
    "#2) True||False"
   ]
  },
  {
   "cell_type": "code",
   "execution_count": 7,
   "id": "db65fcb4-e168-475e-9acc-4617bc067392",
   "metadata": {},
   "outputs": [],
   "source": [
    "# 4. What are the values of the following expressions?\n"
   ]
  },
  {
   "cell_type": "code",
   "execution_count": 9,
   "id": "d1c21931-b890-4865-ab23-9e804e598984",
   "metadata": {},
   "outputs": [
    {
     "data": {
      "text/plain": [
       "False"
      ]
     },
     "execution_count": 9,
     "metadata": {},
     "output_type": "execute_result"
    }
   ],
   "source": [
    "(5>4) and (3 == 5) # it become a False bcoz \"True and False\""
   ]
  },
  {
   "cell_type": "code",
   "execution_count": 11,
   "id": "5983401b-7a73-473a-9c47-56258aef86a0",
   "metadata": {},
   "outputs": [
    {
     "data": {
      "text/plain": [
       "False"
      ]
     },
     "execution_count": 11,
     "metadata": {},
     "output_type": "execute_result"
    }
   ],
   "source": [
    "not (5>4) # it become a False bcoz \"not(True)\""
   ]
  },
  {
   "cell_type": "code",
   "execution_count": 12,
   "id": "acc80a1b-a1c1-4aef-b03a-ca2fe4f81346",
   "metadata": {},
   "outputs": [
    {
     "data": {
      "text/plain": [
       "True"
      ]
     },
     "execution_count": 12,
     "metadata": {},
     "output_type": "execute_result"
    }
   ],
   "source": [
    "(5>4) or (3 == 5) # it become a True bcoz \"True or False\""
   ]
  },
  {
   "cell_type": "code",
   "execution_count": 14,
   "id": "ef2ba20a-7092-4fa2-ba2e-9cf44d06abba",
   "metadata": {},
   "outputs": [
    {
     "data": {
      "text/plain": [
       "True"
      ]
     },
     "execution_count": 14,
     "metadata": {},
     "output_type": "execute_result"
    }
   ],
   "source": [
    "not((5>4) and (3 == 5)) # it become a True bcoz \"not(False)\""
   ]
  },
  {
   "cell_type": "code",
   "execution_count": 16,
   "id": "029707d3-c22f-4178-8275-4b555cc9ed2d",
   "metadata": {},
   "outputs": [
    {
     "data": {
      "text/plain": [
       "False"
      ]
     },
     "execution_count": 16,
     "metadata": {},
     "output_type": "execute_result"
    }
   ],
   "source": [
    "(True and True) and (True == False)  # bcoz (True) and (False)"
   ]
  },
  {
   "cell_type": "code",
   "execution_count": 18,
   "id": "0ea25875-19d5-44c7-8e47-af1409e4f82d",
   "metadata": {},
   "outputs": [
    {
     "data": {
      "text/plain": [
       "True"
      ]
     },
     "execution_count": 18,
     "metadata": {},
     "output_type": "execute_result"
    }
   ],
   "source": [
    "(not False) or (not True) #bcoz (True) or (False) it becomes a True"
   ]
  },
  {
   "cell_type": "code",
   "execution_count": 19,
   "id": "c1deb079-267c-4ae6-939a-b9e0868a0959",
   "metadata": {},
   "outputs": [],
   "source": [
    "# 5. What are the six comparison operators?\n",
    "# <,>,=,==,<=,>="
   ]
  },
  {
   "cell_type": "code",
   "execution_count": 20,
   "id": "f57b458b-ec47-45fa-b878-f54f233d8193",
   "metadata": {},
   "outputs": [
    {
     "name": "stdout",
     "output_type": "stream",
     "text": [
      "30\n"
     ]
    }
   ],
   "source": [
    "#6. How do you tell the difference between the equal to and assignment operators?Describe a condition and when you would use one.\n",
    "# there is no difference between the equal to and assignment operators, both are same\n",
    "a=10\n",
    "b=20\n",
    "c=a+b\n",
    "print(c)"
   ]
  },
  {
   "cell_type": "code",
   "execution_count": 23,
   "id": "d926950a-3b9b-4745-835f-79f7ed72303e",
   "metadata": {},
   "outputs": [
    {
     "name": "stdout",
     "output_type": "stream",
     "text": [
      "ham\n",
      "spam\n",
      "spam\n"
     ]
    }
   ],
   "source": [
    "#7. Identify the three blocks in this code:\n",
    "spam = 0\n",
    "if spam == 10:\n",
    "    print(\"eggs\")\n",
    "    if spam > 5:\n",
    "        print(\"bacon\")\n",
    "else:\n",
    "    print(\"ham\")\n",
    "    print(\"spam\")\n",
    "    print(\"spam\")"
   ]
  },
  {
   "cell_type": "code",
   "execution_count": 27,
   "id": "cc40e3ef-3a49-4c3c-a5e5-79084d46e7aa",
   "metadata": {},
   "outputs": [
    {
     "name": "stdin",
     "output_type": "stream",
     "text": [
      " 1\n"
     ]
    },
    {
     "name": "stdout",
     "output_type": "stream",
     "text": [
      "hello\n"
     ]
    }
   ],
   "source": [
    "#8. Write code that prints Hello if 1 is stored in spam, prints Howdy if 2 is stored in spam, and prints Greetings! if anything else is stored in spam.\n",
    "spam=int(input())\n",
    "if spam==1:\n",
    "    print(\"hello\")\n",
    "elif spam==2:\n",
    "    print(\"greetings\")"
   ]
  },
  {
   "cell_type": "code",
   "execution_count": 28,
   "id": "c381b6c1-e949-46c4-8f8b-6a9e10f9f8ba",
   "metadata": {},
   "outputs": [],
   "source": [
    "# 9.If your programme is stuck in an endless loop, what keys you’ll press?\n",
    "# press--->interrupt the kernel"
   ]
  },
  {
   "cell_type": "code",
   "execution_count": 29,
   "id": "fa7e714c-3a97-4078-b5f7-ecb8fb5aeba3",
   "metadata": {},
   "outputs": [],
   "source": [
    "# 10. How can you tell the difference between break and continue?\n",
    "# both are used to stop/skip the iteration of loop\n",
    "# break ---> terminates the whole iteration of loop\n",
    "# continue---> skip the current iteration of loop and continue remaining iteration."
   ]
  },
  {
   "cell_type": "code",
   "execution_count": 30,
   "id": "5b374e32-d0c5-4c29-aead-950a6eec3bbb",
   "metadata": {},
   "outputs": [],
   "source": [
    "# 11. In a for loop, what is the difference between range(10), range(0, 10), and range(0, 10, 1)?\n",
    "# range(10) get whole number from 0 upto 10 but not including 10\n",
    "# range(0,10) get whole number startfrom 0 upto 10 but not including 10\n",
    "# range (0,10,1) get whole number startfrom 0 upto 10 but not including 10 with jump of 1"
   ]
  },
  {
   "cell_type": "code",
   "execution_count": 1,
   "id": "1dd30dfe-8a73-4b81-8d56-0a04935f9f45",
   "metadata": {},
   "outputs": [],
   "source": [
    "# 12. Write a short program that prints the numbers 1 to 10 using a for loop. Then write an equivalent program that prints the numbers 1 to 10 using a while loop.\n"
   ]
  },
  {
   "cell_type": "code",
   "execution_count": 3,
   "id": "2f2a9e5f-3113-461a-8ddc-fb6a48a6f5bf",
   "metadata": {},
   "outputs": [
    {
     "name": "stdout",
     "output_type": "stream",
     "text": [
      "1\n",
      "2\n",
      "3\n",
      "4\n",
      "5\n",
      "6\n",
      "7\n",
      "8\n",
      "9\n",
      "10\n"
     ]
    }
   ],
   "source": [
    "for i in range(1,11):\n",
    "    print(i)"
   ]
  },
  {
   "cell_type": "code",
   "execution_count": 4,
   "id": "74fcee5a-9245-4d1a-8969-576ad3955219",
   "metadata": {},
   "outputs": [
    {
     "name": "stdout",
     "output_type": "stream",
     "text": [
      "1\n",
      "2\n",
      "3\n",
      "4\n",
      "5\n",
      "6\n",
      "7\n",
      "8\n",
      "9\n",
      "10\n"
     ]
    }
   ],
   "source": [
    "i=1\n",
    "while(i<=10):\n",
    "    print(i)\n",
    "    i=i+1"
   ]
  },
  {
   "cell_type": "code",
   "execution_count": null,
   "id": "6ee247f5-0ec8-4e81-a6f5-075f1502b328",
   "metadata": {},
   "outputs": [],
   "source": [
    "#13. If you had a function named bacon() inside a module named spam, how would you call it after importing spam?\n",
    "#     spam.bacon()"
   ]
  }
 ],
 "metadata": {
  "kernelspec": {
   "display_name": "Python 3 (ipykernel)",
   "language": "python",
   "name": "python3"
  },
  "language_info": {
   "codemirror_mode": {
    "name": "ipython",
    "version": 3
   },
   "file_extension": ".py",
   "mimetype": "text/x-python",
   "name": "python",
   "nbconvert_exporter": "python",
   "pygments_lexer": "ipython3",
   "version": "3.10.6"
  },
  "widgets": {
   "application/vnd.jupyter.widget-state+json": {
    "state": {},
    "version_major": 2,
    "version_minor": 0
   }
  }
 },
 "nbformat": 4,
 "nbformat_minor": 5
}
