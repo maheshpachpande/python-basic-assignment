{
  "cells": [
    {
      "cell_type": "markdown",
      "id": "liberal-account",
      "metadata": {
        "id": "liberal-account"
      },
      "source": [
        "<b>Number 1 - \n",
        "- Question -\n",
        "> Make a class called Thing with no contents and print it. Then, create an object called example from this class and also print it. Are the printed values the same or different?\n",
        "\n",
        "- Answer -\n",
        ">\n",
        "\n",
        "    \n"
      ]
    },
    {
      "cell_type": "code",
      "execution_count": null,
      "id": "cc4ee62e",
      "metadata": {
        "id": "cc4ee62e",
        "outputId": "84db2c6b-2ca4-4b55-be1e-95e1f25f4b4d"
      },
      "outputs": [
        {
          "name": "stdout",
          "output_type": "stream",
          "text": [
            "<class '__main__.Thing'>\n"
          ]
        }
      ],
      "source": [
        "class Thing:\n",
        "    pass\n",
        "print(Thing)"
      ]
    },
    {
      "cell_type": "code",
      "execution_count": null,
      "id": "ec4e677c",
      "metadata": {
        "id": "ec4e677c",
        "outputId": "eb35003d-396f-4e8a-ecb4-027a40dcf9de"
      },
      "outputs": [
        {
          "name": "stdout",
          "output_type": "stream",
          "text": [
            "<__main__.Thing object at 0x000002B5D9C00D00>\n"
          ]
        }
      ],
      "source": [
        "example = Thing()\n",
        "print(example)"
      ]
    },
    {
      "cell_type": "markdown",
      "id": "fdc963e2",
      "metadata": {
        "id": "fdc963e2"
      },
      "source": [
        "<b>------------------------------------------------------------------------------------------------------------------------------------------------------------------------------------------------------------------"
      ]
    },
    {
      "cell_type": "markdown",
      "id": "sharing-council",
      "metadata": {
        "id": "sharing-council"
      },
      "source": [
        "<b>Number 2 - \n",
        "- Question -\n",
        "> Create a new class called Thing2 and add the value 'abc' to the letters class attribute. Letters should be printed.\n",
        "\n",
        "- Answer -\n",
        ">\n",
        "\n",
        "    \n"
      ]
    },
    {
      "cell_type": "code",
      "execution_count": null,
      "id": "3fd6e5fb",
      "metadata": {
        "id": "3fd6e5fb",
        "outputId": "586573b6-9932-4a2b-b6a1-6f03bf22a0fe"
      },
      "outputs": [
        {
          "name": "stdout",
          "output_type": "stream",
          "text": [
            "abc\n"
          ]
        }
      ],
      "source": [
        "class Thing2:\n",
        "    letters = 'abc'\n",
        "print(Thing2.letters)"
      ]
    },
    {
      "cell_type": "markdown",
      "id": "49c8ef4b",
      "metadata": {
        "id": "49c8ef4b"
      },
      "source": [
        "<b>------------------------------------------------------------------------------------------------------------------------------------------------------------------------------------------------------------------"
      ]
    },
    {
      "cell_type": "markdown",
      "id": "acute-talent",
      "metadata": {
        "id": "acute-talent"
      },
      "source": [
        "<b>Number 3 - \n",
        "- Question -\n",
        "> Make yet another class called, of course, Thing3. This time, assign the value 'xyz' to an instance (object) attribute called letters. Print letters. Do you need to make an object from the class to do this?\n",
        "\n",
        "- Answer -\n",
        ">\n",
        "\n",
        "    \n"
      ]
    },
    {
      "cell_type": "code",
      "execution_count": null,
      "id": "d13046ab",
      "metadata": {
        "id": "d13046ab"
      },
      "outputs": [],
      "source": [
        "class Thing3:\n",
        "    def __init__(self):\n",
        "        self.letters = 'xyz'"
      ]
    },
    {
      "cell_type": "markdown",
      "id": "efadf30d",
      "metadata": {
        "id": "efadf30d"
      },
      "source": [
        "<b>The variable letters belongs to any objects made from Thing3, not the Thing3 class itself:"
      ]
    },
    {
      "cell_type": "code",
      "execution_count": null,
      "id": "e5139c7a",
      "metadata": {
        "id": "e5139c7a",
        "outputId": "3ac6c203-cc1e-4b31-dfd5-3f5523d992c3"
      },
      "outputs": [
        {
          "ename": "AttributeError",
          "evalue": "type object 'Thing3' has no attribute 'letters'",
          "output_type": "error",
          "traceback": [
            "\u001b[1;31m---------------------------------------------------------------------------\u001b[0m",
            "\u001b[1;31mAttributeError\u001b[0m                            Traceback (most recent call last)",
            "\u001b[1;32m<ipython-input-7-6f5d5916809a>\u001b[0m in \u001b[0;36m<module>\u001b[1;34m\u001b[0m\n\u001b[1;32m----> 1\u001b[1;33m \u001b[0mprint\u001b[0m\u001b[1;33m(\u001b[0m\u001b[0mThing3\u001b[0m\u001b[1;33m.\u001b[0m\u001b[0mletters\u001b[0m\u001b[1;33m)\u001b[0m\u001b[1;33m\u001b[0m\u001b[1;33m\u001b[0m\u001b[0m\n\u001b[0m",
            "\u001b[1;31mAttributeError\u001b[0m: type object 'Thing3' has no attribute 'letters'"
          ]
        }
      ],
      "source": [
        "print(Thing3.letters)"
      ]
    },
    {
      "cell_type": "code",
      "execution_count": null,
      "id": "78b5b285",
      "metadata": {
        "id": "78b5b285",
        "outputId": "7b48f49d-8305-423a-e2a4-4e10f72d2a88"
      },
      "outputs": [
        {
          "name": "stdout",
          "output_type": "stream",
          "text": [
            "xyz\n"
          ]
        }
      ],
      "source": [
        "something = Thing3()\n",
        "print(something.letters)"
      ]
    },
    {
      "cell_type": "markdown",
      "id": "86059a8f",
      "metadata": {
        "id": "86059a8f"
      },
      "source": [
        "<b>------------------------------------------------------------------------------------------------------------------------------------------------------------------------------------------------------------------"
      ]
    },
    {
      "cell_type": "markdown",
      "id": "outdoor-setup",
      "metadata": {
        "id": "outdoor-setup"
      },
      "source": [
        "<b>Number 4\n",
        "    - \n",
        "- Question -\n",
        "> Create an Element class with the instance attributes name, symbol, and number. Create a class object with the values 'Hydrogen,' 'H,' and 1.\n",
        "\n",
        "- Answer -\n",
        ">\n",
        "\n",
        "    \n"
      ]
    },
    {
      "cell_type": "code",
      "execution_count": null,
      "id": "c2841aec",
      "metadata": {
        "id": "c2841aec"
      },
      "outputs": [],
      "source": [
        "class Element:\n",
        "    def __init__(self, name, symbol, number):\n",
        "        self.name = name\n",
        "        self.symbol = symbol\n",
        "        self.number = number\n",
        "hydrogen = Element('Hydrogen', 'H', 1)"
      ]
    },
    {
      "cell_type": "markdown",
      "id": "931eef4f",
      "metadata": {
        "id": "931eef4f"
      },
      "source": [
        "<b>------------------------------------------------------------------------------------------------------------------------------------------------------------------------------------------------------------------"
      ]
    },
    {
      "cell_type": "markdown",
      "id": "caring-viewer",
      "metadata": {
        "id": "caring-viewer"
      },
      "source": [
        "<b>Number 5 - \n",
        "- Question -\n",
        "> Make a dictionary with these keys and values: 'name': 'Hydrogen', 'symbol': 'H', 'number': 1. Then, create an object called hydrogen from class Element using this dictionary.\n",
        "\n",
        "- Answer -\n",
        ">\n",
        "\n",
        "    \n"
      ]
    },
    {
      "cell_type": "code",
      "execution_count": null,
      "id": "6728434f",
      "metadata": {
        "id": "6728434f"
      },
      "outputs": [],
      "source": [
        "#Starting with the dictionary:\n",
        "el_dict = {'name': 'Hydrogen', 'symbol': 'H', 'number': 1}"
      ]
    },
    {
      "cell_type": "code",
      "execution_count": null,
      "id": "3fd60882",
      "metadata": {
        "id": "3fd60882"
      },
      "outputs": [],
      "source": [
        "#Creating object called hydrogen from class Element using el_dict\n",
        "hydrogen = Element(el_dict['name'], el_dict['symbol'], el_dict['number'])"
      ]
    },
    {
      "cell_type": "code",
      "execution_count": null,
      "id": "4304cf12",
      "metadata": {
        "id": "4304cf12",
        "outputId": "08d167c7-df15-4c87-a114-3834dec50cf8"
      },
      "outputs": [
        {
          "data": {
            "text/plain": [
              "'Hydrogen'"
            ]
          },
          "execution_count": 13,
          "metadata": {},
          "output_type": "execute_result"
        }
      ],
      "source": [
        "hydrogen.name"
      ]
    },
    {
      "cell_type": "markdown",
      "id": "870dbc20",
      "metadata": {
        "id": "870dbc20"
      },
      "source": [
        "<b>We can also initialize the object directly from the dictionary, because its key names match the arguments to \"__init__\""
      ]
    },
    {
      "cell_type": "code",
      "execution_count": null,
      "id": "9e9a25d9",
      "metadata": {
        "id": "9e9a25d9",
        "outputId": "34b4d6ea-4039-4064-a7b4-0c9a46c67262"
      },
      "outputs": [
        {
          "data": {
            "text/plain": [
              "'Hydrogen'"
            ]
          },
          "execution_count": 14,
          "metadata": {},
          "output_type": "execute_result"
        }
      ],
      "source": [
        "hydrogen = Element(**el_dict)\n",
        "hydrogen.name"
      ]
    },
    {
      "cell_type": "markdown",
      "id": "68db5803",
      "metadata": {
        "id": "68db5803"
      },
      "source": [
        "<b>------------------------------------------------------------------------------------------------------------------------------------------------------------------------------------------------------------------"
      ]
    },
    {
      "cell_type": "markdown",
      "id": "complimentary-cabinet",
      "metadata": {
        "id": "complimentary-cabinet"
      },
      "source": [
        "<b>Number 6 - \n",
        "- Question -\n",
        "> For the Element class, define a method called dump() that prints the values of the object’s attributes (name, symbol, and number). Create the hydrogen object from this new definition and use dump() to print its attributes.\n",
        "\n",
        "- Answer -\n",
        ">\n",
        "\n",
        "    \n"
      ]
    },
    {
      "cell_type": "code",
      "execution_count": null,
      "id": "1cc0e0c3",
      "metadata": {
        "id": "1cc0e0c3",
        "outputId": "bc95269a-8f2c-4ecf-e0a1-437afd5a54dc"
      },
      "outputs": [
        {
          "name": "stdout",
          "output_type": "stream",
          "text": [
            "name=Hydrogen, symbol=H, number=1\n"
          ]
        }
      ],
      "source": [
        "class Element:\n",
        "    def __init__(self, name, symbol, number):\n",
        "        self.name = name\n",
        "        self.symbol = symbol\n",
        "        self.number = number\n",
        "    def dump(self):\n",
        "        print('name=%s, symbol=%s, number=%s' %(self.name, self.symbol, self.number))\n",
        "hydrogen = Element(**el_dict)\n",
        "hydrogen.dump()"
      ]
    },
    {
      "cell_type": "markdown",
      "id": "5806d658",
      "metadata": {
        "id": "5806d658"
      },
      "source": [
        "<b>------------------------------------------------------------------------------------------------------------------------------------------------------------------------------------------------------------------"
      ]
    },
    {
      "cell_type": "markdown",
      "id": "special-graduation",
      "metadata": {
        "id": "special-graduation"
      },
      "source": [
        "<b>Number 7 - \n",
        "- Question -\n",
        "> Call print(hydrogen). In the definition of Element, change the name of method dump to __str__, create a new hydrogen object, and call print(hydrogen) again.\n",
        "\n",
        "- Answer -\n",
        ">\n",
        "\n",
        "    \n"
      ]
    },
    {
      "cell_type": "code",
      "execution_count": null,
      "id": "4712717d",
      "metadata": {
        "id": "4712717d",
        "outputId": "4c85b138-a0a0-4428-c331-1a57c06ad09b"
      },
      "outputs": [
        {
          "name": "stdout",
          "output_type": "stream",
          "text": [
            "<__main__.Element object at 0x000002B5DB25E760>\n"
          ]
        }
      ],
      "source": [
        "print(hydrogen)"
      ]
    },
    {
      "cell_type": "code",
      "execution_count": null,
      "id": "632fd393",
      "metadata": {
        "id": "632fd393",
        "outputId": "010983eb-477e-4ae6-d562-8fae1a14180d"
      },
      "outputs": [
        {
          "name": "stdout",
          "output_type": "stream",
          "text": [
            "name=Hydrogen, symbol=H, number=1\n"
          ]
        }
      ],
      "source": [
        "class Element:\n",
        "    def __init__(self, name, symbol, number):\n",
        "        self.name = name\n",
        "        self.symbol = symbol\n",
        "        self.number = number\n",
        "    def __str__(self):\n",
        "        return ('name=%s, symbol=%s, number=%s' %(self.name, self.symbol, self.number))\n",
        "\n",
        "hydrogen = Element(**el_dict)\n",
        "print(hydrogen)"
      ]
    },
    {
      "cell_type": "markdown",
      "id": "42307818",
      "metadata": {
        "id": "42307818"
      },
      "source": [
        "<b>------------------------------------------------------------------------------------------------------------------------------------------------------------------------------------------------------------------"
      ]
    },
    {
      "cell_type": "markdown",
      "id": "conscious-adult",
      "metadata": {
        "id": "conscious-adult"
      },
      "source": [
        "<b>Number 8 - \n",
        "- Question -\n",
        "> Modify Element to make the attributes name, symbol, and number private. Define a getter property for each to return its value.\n",
        "\n",
        "- Answer -\n",
        ">\n",
        "\n",
        "    \n"
      ]
    },
    {
      "cell_type": "code",
      "execution_count": null,
      "id": "40c7071b",
      "metadata": {
        "id": "40c7071b"
      },
      "outputs": [],
      "source": [
        "class Element:\n",
        "    def __init__(self, name, symbol, number):\n",
        "        self.__name = name\n",
        "        self.__symbol = symbol\n",
        "        self.__number = number\n",
        "    @property    \n",
        "    def name(self):\n",
        "        return self.__name\n",
        "    @property\n",
        "    def symbol(self):\n",
        "        return self.__symbol\n",
        "    @property\n",
        "    def number(self):\n",
        "        return self.__number\n",
        "hydrogen = Element('Hydrogen', 'H', 1)"
      ]
    },
    {
      "cell_type": "code",
      "execution_count": null,
      "id": "8aa75862",
      "metadata": {
        "id": "8aa75862",
        "outputId": "527e3c01-e9da-4455-d31e-d1f013ea6306"
      },
      "outputs": [
        {
          "data": {
            "text/plain": [
              "'Hydrogen'"
            ]
          },
          "execution_count": 30,
          "metadata": {},
          "output_type": "execute_result"
        }
      ],
      "source": [
        "hydrogen.name"
      ]
    },
    {
      "cell_type": "code",
      "execution_count": null,
      "id": "9c632443",
      "metadata": {
        "id": "9c632443",
        "outputId": "7927dddc-e46e-4957-e007-286d2bacd3ff"
      },
      "outputs": [
        {
          "data": {
            "text/plain": [
              "'H'"
            ]
          },
          "execution_count": 31,
          "metadata": {},
          "output_type": "execute_result"
        }
      ],
      "source": [
        "hydrogen.symbol"
      ]
    },
    {
      "cell_type": "code",
      "execution_count": null,
      "id": "ed491dc4",
      "metadata": {
        "id": "ed491dc4",
        "outputId": "dc5513b8-be2f-4638-dc6a-4c414cf0372b"
      },
      "outputs": [
        {
          "data": {
            "text/plain": [
              "1"
            ]
          },
          "execution_count": 32,
          "metadata": {},
          "output_type": "execute_result"
        }
      ],
      "source": [
        "hydrogen.number"
      ]
    },
    {
      "cell_type": "markdown",
      "id": "711b1f65",
      "metadata": {
        "id": "711b1f65"
      },
      "source": [
        "<b>------------------------------------------------------------------------------------------------------------------------------------------------------------------------------------------------------------------"
      ]
    },
    {
      "cell_type": "markdown",
      "id": "dynamic-madison",
      "metadata": {
        "id": "dynamic-madison"
      },
      "source": [
        "<b>Number 9 - \n",
        "- Question -\n",
        "> Define three classes: Bear, Rabbit, and Octothorpe. For each, define only one method: eats(). This should return 'berries' (Bear), 'clover' (Rabbit), or 'campers' (Octothorpe). Create one object from each and print what it eats.\n",
        "\n",
        "- Answer -\n",
        ">\n",
        "\n",
        "    \n"
      ]
    },
    {
      "cell_type": "code",
      "execution_count": null,
      "id": "d83b92b5",
      "metadata": {
        "id": "d83b92b5"
      },
      "outputs": [],
      "source": [
        "class Bear:\n",
        "    def eats(self):\n",
        "        return 'berries'\n",
        "    \n",
        "class Rabbit:\n",
        "    def eats(self):\n",
        "        return 'clover'\n",
        "\n",
        "class Octothorpe:\n",
        "    def eats(self):\n",
        "        return 'campers'\n",
        "    \n",
        "b = Bear()\n",
        "r = Rabbit()\n",
        "o = Octothorpe()"
      ]
    },
    {
      "cell_type": "code",
      "execution_count": null,
      "id": "8066f8c6",
      "metadata": {
        "id": "8066f8c6",
        "outputId": "7258d9a4-315e-4383-ae43-ed882b1aa0df"
      },
      "outputs": [
        {
          "name": "stdout",
          "output_type": "stream",
          "text": [
            "berries\n"
          ]
        }
      ],
      "source": [
        "print(b.eats())"
      ]
    },
    {
      "cell_type": "code",
      "execution_count": null,
      "id": "92e4ae7d",
      "metadata": {
        "id": "92e4ae7d",
        "outputId": "2e68719d-a419-4373-cb80-0cc301d0f16b"
      },
      "outputs": [
        {
          "name": "stdout",
          "output_type": "stream",
          "text": [
            "clover\n"
          ]
        }
      ],
      "source": [
        "print(r.eats())"
      ]
    },
    {
      "cell_type": "code",
      "execution_count": null,
      "id": "2ceb94d7",
      "metadata": {
        "id": "2ceb94d7",
        "outputId": "ee6c2456-1ce7-4748-ad12-8c28ce0a8f93"
      },
      "outputs": [
        {
          "name": "stdout",
          "output_type": "stream",
          "text": [
            "campers\n"
          ]
        }
      ],
      "source": [
        "print(o.eats())"
      ]
    },
    {
      "cell_type": "markdown",
      "id": "5a97a012",
      "metadata": {
        "id": "5a97a012"
      },
      "source": [
        "<b>------------------------------------------------------------------------------------------------------------------------------------------------------------------------------------------------------------------"
      ]
    },
    {
      "cell_type": "markdown",
      "id": "continuing-drama",
      "metadata": {
        "id": "continuing-drama"
      },
      "source": [
        "<b>Number 10 - \n",
        "- Question -\n",
        "> Define these classes: Laser, Claw, and SmartPhone. Each has only one method: does(). This returns 'disintegrate' (Laser), 'crush' (Claw), or 'ring' (SmartPhone). Then, define the class Robot that has one instance (object) of each of these. Define a does() method for the Robot that prints what its component objects do.\n",
        "\n",
        "- Answer -\n",
        ">\n",
        "\n",
        "    \n"
      ]
    },
    {
      "cell_type": "code",
      "execution_count": null,
      "id": "e66788cc",
      "metadata": {
        "id": "e66788cc"
      },
      "outputs": [],
      "source": [
        "class Laser:\n",
        "    def does(self):\n",
        "        return 'disintegrate'\n",
        "\n",
        "class Claw:\n",
        "    def does(self):\n",
        "        return 'crush'\n",
        "    \n",
        "class SmartPhone:\n",
        "    def does(self):\n",
        "        return 'ring'\n",
        "    \n",
        "class Robot:\n",
        "    def __init__(self):\n",
        "        self.laser = Laser()\n",
        "        self.claw = Claw()\n",
        "        self.smartphone = SmartPhone()\n",
        "        \n",
        "    def does(self):\n",
        "        return '''I have many attachments:\n",
        "        My laser, to %s.\n",
        "        My claw, to %s.\n",
        "        My smartphone, to %s.''' % (self.laser.does(),self.claw.does(),self.smartphone.does() )"
      ]
    },
    {
      "cell_type": "code",
      "execution_count": null,
      "id": "11aac728",
      "metadata": {
        "id": "11aac728"
      },
      "outputs": [],
      "source": [
        "robbie = Robot()"
      ]
    },
    {
      "cell_type": "code",
      "execution_count": null,
      "id": "74e648a5",
      "metadata": {
        "id": "74e648a5",
        "outputId": "ec62a7b3-1699-4df9-915a-904802c9a3d2"
      },
      "outputs": [
        {
          "name": "stdout",
          "output_type": "stream",
          "text": [
            "I have many attachments:\n",
            "        My laser, to disintegrate.\n",
            "        My claw, to crush.\n",
            "        My smartphone, to ring.\n"
          ]
        }
      ],
      "source": [
        "print( robbie.does())"
      ]
    },
    {
      "cell_type": "markdown",
      "id": "a6a3a8cc",
      "metadata": {
        "id": "a6a3a8cc"
      },
      "source": [
        "<b>------------------------------------------------------------------------------------------------------------------------------------------------------------------------------------------------------------------"
      ]
    }
  ],
  "metadata": {
    "kernelspec": {
      "display_name": "Python 3",
      "language": "python",
      "name": "python3"
    },
    "language_info": {
      "codemirror_mode": {
        "name": "ipython",
        "version": 3
      },
      "file_extension": ".py",
      "mimetype": "text/x-python",
      "name": "python",
      "nbconvert_exporter": "python",
      "pygments_lexer": "ipython3",
      "version": "3.8.8"
    },
    "toc": {
      "base_numbering": 1,
      "nav_menu": {},
      "number_sections": true,
      "sideBar": true,
      "skip_h1_title": false,
      "title_cell": "Table of Contents",
      "title_sidebar": "Contents",
      "toc_cell": false,
      "toc_position": {},
      "toc_section_display": true,
      "toc_window_display": false
    },
    "colab": {
      "provenance": []
    }
  },
  "nbformat": 4,
  "nbformat_minor": 5
}