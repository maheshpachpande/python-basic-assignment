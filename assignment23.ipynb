{
  "cells": [
    {
      "cell_type": "markdown",
      "id": "liberal-account",
      "metadata": {
        "id": "liberal-account"
      },
      "source": [
        "<b>Number 1 - \n",
        "- Question -\n",
        "    \n",
        "> What is the result of the code, and why?\n",
        "    \n",
        "> def func(a, b=6, c=8):print(a, b, c)\n",
        "    \n",
        "> func(1, 2)\n",
        "\n",
        "\n",
        "- Answer -\n",
        "\n",
        "> The line func() takes two values, that is 1 and 2 respectively, but the func() is defined to take 3 values, as in func() we pass only two values, the third value comes from the default value, that is c = 8.\n",
        "\n",
        "    \n"
      ]
    },
    {
      "cell_type": "code",
      "execution_count": null,
      "id": "279becf1",
      "metadata": {
        "id": "279becf1",
        "outputId": "6a8eaeed-9652-4fb7-d48b-7b8c2ae0d039"
      },
      "outputs": [
        {
          "name": "stdout",
          "output_type": "stream",
          "text": [
            "1 2 8\n"
          ]
        }
      ],
      "source": [
        "def func(a, b=6, c=8): \n",
        "    print(a, b, c)\n",
        "func(1, 2)"
      ]
    },
    {
      "cell_type": "markdown",
      "id": "dd31f922",
      "metadata": {
        "id": "dd31f922"
      },
      "source": [
        "<b>------------------------------------------------------------------------------------------------------------------------------------------------------------------------------------------------------------------"
      ]
    },
    {
      "cell_type": "markdown",
      "id": "sharing-council",
      "metadata": {
        "id": "sharing-council"
      },
      "source": [
        "<b>Number 2 - \n",
        "- Question -\n",
        "    \n",
        "> What is the result of this code, and why?\n",
        "    \n",
        "> def func(a, b, c=5):print(a, b, c)\n",
        "    \n",
        "> func(1, c=3, b=2)\n",
        "\n",
        "\n",
        "- Answer -\n",
        "    \n",
        "> The line func() takes three values, that is 1 , c= 3 snd b = 2 respectively,the func() is defined to take 3 values, as in func() we pass othree values, the default values gets overwritten, and we get the newly passed values.\n",
        "\n",
        "    \n"
      ]
    },
    {
      "cell_type": "code",
      "execution_count": null,
      "id": "0d45c1ae",
      "metadata": {
        "id": "0d45c1ae",
        "outputId": "d071fbfd-0976-41bf-d96c-cd8cfa8483cf"
      },
      "outputs": [
        {
          "name": "stdout",
          "output_type": "stream",
          "text": [
            "1 2 3\n"
          ]
        }
      ],
      "source": [
        "def func(a, b, c=5):\n",
        "    print(a, b, c)\n",
        "func(1, c=3, b=2)\n"
      ]
    },
    {
      "cell_type": "markdown",
      "id": "0070d0a7",
      "metadata": {
        "id": "0070d0a7"
      },
      "source": [
        "<b>------------------------------------------------------------------------------------------------------------------------------------------------------------------------------------------------------------------"
      ]
    },
    {
      "cell_type": "markdown",
      "id": "acute-talent",
      "metadata": {
        "id": "acute-talent"
      },
      "source": [
        "<b>Number 3 - \n",
        "- Question -\n",
        "    \n",
        "> How about this code: what is its result, and why?\n",
        "    \n",
        "> def func(a, *pargs):print(a, pargs)\n",
        "    \n",
        "> func(1, 2, 3)\n",
        "\n",
        "\n",
        "- Answer -\n",
        "    \n",
        "> The special syntax *pargs in function definitions in python is used to pass a variable number of arguments to a function. It is used to pass a non-key worded, variable-length argument list. The syntax is to use the symbol * to take in a variable number of arguments; by convention, it is often used with the word args.\n",
        "What *pargs allows you to do is take in more arguments than the number of formal arguments that you previously defined. With *pargs, any number of extra arguments can be tacked on to your current formal parameters (including zero extra arguments).\n",
        "\n"
      ]
    },
    {
      "cell_type": "code",
      "execution_count": null,
      "id": "5cd37291",
      "metadata": {
        "id": "5cd37291",
        "outputId": "b27ae9a9-6d26-4915-930c-4dbeb56ae747"
      },
      "outputs": [
        {
          "name": "stdout",
          "output_type": "stream",
          "text": [
            "1 (2, 3)\n"
          ]
        }
      ],
      "source": [
        "def func(a, *pargs):\n",
        "    print(a, pargs)\n",
        "func(1, 2, 3)\n"
      ]
    },
    {
      "cell_type": "markdown",
      "id": "e6681c6f",
      "metadata": {
        "id": "e6681c6f"
      },
      "source": [
        "<b>------------------------------------------------------------------------------------------------------------------------------------------------------------------------------------------------------------------"
      ]
    },
    {
      "cell_type": "markdown",
      "id": "outdoor-setup",
      "metadata": {
        "id": "outdoor-setup"
      },
      "source": [
        "<b>Number 4 - \n",
        "- Question -\n",
        "    \n",
        "> What does this code print, and why?\n",
        "\n",
        "> def func(a, **kargs):print(a, kargs)\n",
        "    \n",
        "    \n",
        "> func(a=1, c=3, b=2)\n",
        "\n",
        "\n",
        "- Answer -\n",
        "    \n",
        "> The special syntax **kargs in function definitions in python is used to pass a keyworded, variable-length argument list. We use the name kwargs with the double star. The reason is because the double star allows us to pass through keyword arguments (and any number of them).\n",
        "\n",
        "    \n",
        "<b>------------------------------------------------------------------------------------------------------------------------------------------------------------------------------------------------------------------"
      ]
    },
    {
      "cell_type": "code",
      "execution_count": null,
      "id": "99e39ad4",
      "metadata": {
        "id": "99e39ad4",
        "outputId": "23686df3-048c-4ef3-9e2f-2452f6be9230"
      },
      "outputs": [
        {
          "name": "stdout",
          "output_type": "stream",
          "text": [
            "1 {'c': 3, 'b': 2}\n"
          ]
        }
      ],
      "source": [
        "def func(a, **kargs):\n",
        "    print(a, kargs)\n",
        "func(a=1, c=3, b=2)\n"
      ]
    },
    {
      "cell_type": "markdown",
      "id": "18807260",
      "metadata": {
        "id": "18807260"
      },
      "source": [
        "<b>------------------------------------------------------------------------------------------------------------------------------------------------------------------------------------------------------------------"
      ]
    },
    {
      "cell_type": "markdown",
      "id": "caring-viewer",
      "metadata": {
        "id": "caring-viewer"
      },
      "source": [
        "<b>Number 5 - \n",
        "- Question -\n",
        "    \n",
        "> What gets printed by this, and explain?\n",
        "    \n",
        "> def func(a, b, c=8, d=5): print(a, b, c, d)\n",
        "    \n",
        "> func(1, *(5, 6))\n",
        "\n",
        "\n",
        "- Answer -\n",
        "    \n",
        ">\n",
        "\n",
        "    \n"
      ]
    },
    {
      "cell_type": "code",
      "execution_count": null,
      "id": "5dea7c8c",
      "metadata": {
        "id": "5dea7c8c",
        "outputId": "ea3054d7-558e-456b-d99d-bab0100a2fba"
      },
      "outputs": [
        {
          "name": "stdout",
          "output_type": "stream",
          "text": [
            "1 5 6 5\n"
          ]
        }
      ],
      "source": [
        "def func(a, b, c=8, d=5): \n",
        "    print(a, b, c, d)\n",
        "func(1, *(5, 6))"
      ]
    },
    {
      "cell_type": "markdown",
      "id": "5b5818c7",
      "metadata": {
        "id": "5b5818c7"
      },
      "source": [
        "<b>------------------------------------------------------------------------------------------------------------------------------------------------------------------------------------------------------------------"
      ]
    },
    {
      "cell_type": "markdown",
      "id": "complimentary-cabinet",
      "metadata": {
        "id": "complimentary-cabinet"
      },
      "source": [
        "<b>Number 6 - \n",
        "- Question -\n",
        "    \n",
        ">what is the result of this, and explain?\n",
        "    \n",
        "> def func(a, b, c): a = 2; b[0] = 'x'; c['a'] = 'y'\n",
        "\n",
        "> l=1; m=[1]; n={'a':0}\n",
        "    \n",
        "> func(l, m, n)\n",
        "\n",
        "\n",
        "- Answer -\n",
        "    \n",
        ">"
      ]
    },
    {
      "cell_type": "code",
      "execution_count": null,
      "id": "10d03cc4",
      "metadata": {
        "id": "10d03cc4"
      },
      "outputs": [],
      "source": [
        "def func(a, b, c): \n",
        "    a = 2; b[0] = 'x'; c['a'] = 'y'\n",
        "l=1; m=[1]; n={'a':0}\n",
        "func(l, m, n)"
      ]
    },
    {
      "cell_type": "markdown",
      "id": "d327eda3",
      "metadata": {
        "id": "d327eda3"
      },
      "source": [
        "<b>------------------------------------------------------------------------------------------------------------------------------------------------------------------------------------------------------------------"
      ]
    }
  ],
  "metadata": {
    "kernelspec": {
      "display_name": "Python 3",
      "language": "python",
      "name": "python3"
    },
    "language_info": {
      "codemirror_mode": {
        "name": "ipython",
        "version": 3
      },
      "file_extension": ".py",
      "mimetype": "text/x-python",
      "name": "python",
      "nbconvert_exporter": "python",
      "pygments_lexer": "ipython3",
      "version": "3.8.8"
    },
    "toc": {
      "base_numbering": 1,
      "nav_menu": {},
      "number_sections": true,
      "sideBar": true,
      "skip_h1_title": false,
      "title_cell": "Table of Contents",
      "title_sidebar": "Contents",
      "toc_cell": false,
      "toc_position": {},
      "toc_section_display": true,
      "toc_window_display": false
    },
    "colab": {
      "provenance": []
    }
  },
  "nbformat": 4,
  "nbformat_minor": 5
}