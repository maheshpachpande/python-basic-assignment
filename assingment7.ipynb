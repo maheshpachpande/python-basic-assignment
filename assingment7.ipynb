{
  "nbformat": 4,
  "nbformat_minor": 0,
  "metadata": {
    "colab": {
      "provenance": []
    },
    "kernelspec": {
      "name": "python3",
      "display_name": "Python 3"
    },
    "language_info": {
      "name": "python"
    }
  },
  "cells": [
    {
      "cell_type": "code",
      "execution_count": 1,
      "metadata": {
        "id": "Z83pKNh53sWy"
      },
      "outputs": [],
      "source": [
        "#What is the name of the feature responsible for generating Regex objects?\n",
        "\n",
        "#Answer -The name of the feature responsible for generating Regex objects is re.compile() function which returns Regex objects."
      ]
    },
    {
      "cell_type": "code",
      "source": [
        "#Why do raw strings often appear in Regex objects?\n",
        "\n",
        "#Answer -Raw strings are used so that backslashes do not have to be escaped."
      ],
      "metadata": {
        "id": "2mSurWUP3zw9"
      },
      "execution_count": 2,
      "outputs": []
    },
    {
      "cell_type": "code",
      "source": [
        "#What is the return value of the search() method?\n",
        "\n",
        "#Answer -the return value of the search() method is that it returns Match objects.The search() function searches the string for a match, and returns a Match object if there is a match."
      ],
      "metadata": {
        "id": "ci8ZqyuX33rY"
      },
      "execution_count": 3,
      "outputs": []
    },
    {
      "cell_type": "code",
      "source": [
        "import re\n",
        "\n",
        "data = \"This is iNeuron Full Stack Data Science Class\"\n",
        "x = re.search(\"i\", data)\n",
        "\n",
        "print(\"The first i character is located in position:\", x.start()) \n",
        "type(x)"
      ],
      "metadata": {
        "colab": {
          "base_uri": "https://localhost:8080/"
        },
        "id": "s-hjRyga37nu",
        "outputId": "8d076b8a-3c3e-4849-ee85-385f633570ab"
      },
      "execution_count": 4,
      "outputs": [
        {
          "output_type": "stream",
          "name": "stdout",
          "text": [
            "The first i character is located in position: 2\n"
          ]
        },
        {
          "output_type": "execute_result",
          "data": {
            "text/plain": [
              "re.Match"
            ]
          },
          "metadata": {},
          "execution_count": 4
        }
      ]
    },
    {
      "cell_type": "code",
      "source": [
        "#From a Match item, how do you get the actual strings that match the pattern?\n",
        "\n",
        "#Answer -The group() method returns strings of the matched text."
      ],
      "metadata": {
        "id": "0h1zZgq44GnL"
      },
      "execution_count": 5,
      "outputs": []
    },
    {
      "cell_type": "code",
      "source": [
        "#In the regex which created from the r'(\\d\\d\\d)-(\\d\\d\\d-\\d\\d\\d\\d)', what does group zero cover? Group 2? Group 1?\n",
        "\n",
        "#Answer -Group 0 is the entire match, group 1 covers the first set of parentheses, and group 2 covers the second set of parentheses."
      ],
      "metadata": {
        "id": "BkPd7b824LGv"
      },
      "execution_count": 6,
      "outputs": []
    },
    {
      "cell_type": "code",
      "source": [
        "#In standard expression syntax, parentheses and intervals have distinct meanings. How can you tell a regex that you want it to fit real parentheses and periods?\n",
        "\n",
        "#Answer -Periods and parentheses can be escaped with a backslash: \\"
      ],
      "metadata": {
        "id": "QfJHDYE14O9Q"
      },
      "execution_count": 7,
      "outputs": []
    },
    {
      "cell_type": "code",
      "source": [
        "#The findall() method returns a string list or a list of string tuples. What causes it to return one of the two options?\n",
        "\n",
        "#Answer -If the regex has no groups, a list of strings is returned. If the regex has groups, a list of tuples of strings is returned."
      ],
      "metadata": {
        "id": "nTB1rHtv4T78"
      },
      "execution_count": 8,
      "outputs": []
    },
    {
      "cell_type": "code",
      "source": [
        "#In standard expressions, what does the | character mean?\n",
        "\n",
        "#Answer -The | character signifies matching \"either, or\" between two groups."
      ],
      "metadata": {
        "id": "4tVvAw344aYK"
      },
      "execution_count": 9,
      "outputs": []
    },
    {
      "cell_type": "code",
      "source": [
        "#What two things does the ? character signify in regular expressions?\n",
        "\n",
        "#Answer -The ? character can either mean \"match zero or one of the preceding group\" or be used to signify nongreedy matching."
      ],
      "metadata": {
        "id": "cTP4hkSV4cDd"
      },
      "execution_count": 10,
      "outputs": []
    },
    {
      "cell_type": "code",
      "source": [
        "#In regular expressions, what is the difference between the + and * characters?\n",
        "\n",
        "#Answer -The + matches one or more. The * matches zero or more."
      ],
      "metadata": {
        "id": "Kx4VG_Pv4fF8"
      },
      "execution_count": 11,
      "outputs": []
    },
    {
      "cell_type": "code",
      "source": [
        "#What is the difference between {4} and {4,5} in regular expression?\n",
        "\n",
        "#Answer -The {4} matches exactly three instances of the preceding group. The {4,5} matches between four and five instances."
      ],
      "metadata": {
        "id": "_Jx4Pi1c4ioG"
      },
      "execution_count": 12,
      "outputs": []
    },
    {
      "cell_type": "code",
      "source": [
        "#What do you mean by the \\d, \\w, and \\s shorthand character classes signify in regular expressions?\n",
        "\n",
        "#Answer -The \\d, \\w, and \\s shorthand character classes match a single digit, word, or space character, respectively."
      ],
      "metadata": {
        "id": "VrEWe-jx4mqU"
      },
      "execution_count": 13,
      "outputs": []
    },
    {
      "cell_type": "code",
      "source": [
        "#What do means by \\D, \\W, and \\S shorthand character classes signify in regular expressions?\n",
        "\n",
        "#Answer -The \\D, \\W, and \\S shorthand character classes match a single character that is not a digit, word, or space character, respectively."
      ],
      "metadata": {
        "id": "RTL_0ngy4qS0"
      },
      "execution_count": 14,
      "outputs": []
    },
    {
      "cell_type": "code",
      "source": [
        "#What is the difference between .* and .*??\n",
        "\n",
        "#Answer -The .* performs a greedy match, and the .*? performs a nongreedy match."
      ],
      "metadata": {
        "id": "XC711sqk4t_m"
      },
      "execution_count": 15,
      "outputs": []
    },
    {
      "cell_type": "code",
      "source": [
        "#What is the syntax for matching both numbers and lowercase letters with a character class?\n",
        "\n",
        "#Answer -Either [0-9a-z] or [a-z0-9]"
      ],
      "metadata": {
        "id": "rgFOMd5O4xiA"
      },
      "execution_count": 16,
      "outputs": []
    },
    {
      "cell_type": "code",
      "source": [
        "#What is the procedure for making a normal expression in regex case insensitive?\n",
        "\n",
        "#Answer -Passing re.I or re.IGNORECASE as the second argument to re.compile() will make the matching case insensitive."
      ],
      "metadata": {
        "id": "UCZlg-np42zH"
      },
      "execution_count": 17,
      "outputs": []
    },
    {
      "cell_type": "code",
      "source": [
        "#What does the . character normally match? What does it match if re.DOTALL is passed as 2nd argument in re.compile()?\n",
        "\n",
        "#Answer -The . character normally matches any character except the newline character. If re.DOTALL is passed as the second argument to re.compile(), then the dot will also match newline characters."
      ],
      "metadata": {
        "id": "a07mNapn46PX"
      },
      "execution_count": 18,
      "outputs": []
    },
    {
      "cell_type": "code",
      "source": [
        "#If numRegex = re.compile(r'\\d+'), what will numRegex.sub('X', '11 drummers, 10 pipers, five rings, 4 hen') return?"
      ],
      "metadata": {
        "id": "MNcn0t3y49xr"
      },
      "execution_count": 19,
      "outputs": []
    },
    {
      "cell_type": "code",
      "source": [
        "import re\n",
        "numRegex = re.compile(r'\\d+')"
      ],
      "metadata": {
        "id": "-S2JRpos5A_4"
      },
      "execution_count": 20,
      "outputs": []
    },
    {
      "cell_type": "code",
      "source": [
        "numRegex.sub('X', '11 drummers, 10 pipers, five rings, 4 hen')"
      ],
      "metadata": {
        "colab": {
          "base_uri": "https://localhost:8080/",
          "height": 36
        },
        "id": "2IDSBhiL5DTv",
        "outputId": "fc45ecc7-f373-4775-9103-ea4adea8d407"
      },
      "execution_count": 21,
      "outputs": [
        {
          "output_type": "execute_result",
          "data": {
            "text/plain": [
              "'X drummers, X pipers, five rings, X hen'"
            ],
            "application/vnd.google.colaboratory.intrinsic+json": {
              "type": "string"
            }
          },
          "metadata": {},
          "execution_count": 21
        }
      ]
    },
    {
      "cell_type": "code",
      "source": [
        "#What does passing re.VERBOSE as the 2nd argument to re.compile() allow to do?\n",
        "\n",
        "#Answer -The re.VERBOSE argument allows you to add whitespace and comments to the string passed to re.compile()."
      ],
      "metadata": {
        "id": "rGjOtE_U5JqC"
      },
      "execution_count": 22,
      "outputs": []
    },
    {
      "cell_type": "code",
      "source": [
        "#How would you write a regex that match a number with comma for every three digits? It must match the given following:\n",
        "\n",
        "#'42'\n",
        "#'1,234'\n",
        "#'6,368,745'\n",
        "#but not the following:\n",
        "#'12,34,567' (which has only two digits between the commas)\n",
        "#'1234' (which lacks commas)\n",
        "\n",
        "#Answer -re.compile(r'^\\d{1,3}(,\\d{3})*$') will create this regex, but other regex strings can produce a similar regular expression."
      ],
      "metadata": {
        "id": "PKwxWasl5Pw1"
      },
      "execution_count": 24,
      "outputs": []
    },
    {
      "cell_type": "code",
      "source": [
        "#How would you write a regex that matches the full name of someone whose last name is Watanabe? You can assume that the first name that comes before it will always be one word that begins with a capital letter. The regex must match the following:\n",
        "\n",
        "#'Haruto Watanabe'\n",
        "#'Alice Watanabe'\n",
        "#'RoboCop Watanabe'\n",
        "#but not the following:\n",
        "#'haruto Watanabe' (where the first name is not capitalized)\n",
        "#'Mr. Watanabe' (where the preceding word has a nonletter character)\n",
        "#'Watanabe' (which has no first name)\n",
        "#'Haruto watanabe' (where Watanabe is not capitalized)\n",
        "\n",
        "\n",
        "\n",
        "#Answer -re.compile(r'[A-Z][a-z]*\\sNakamoto')"
      ],
      "metadata": {
        "id": "wa9MP1Oh5b20"
      },
      "execution_count": 25,
      "outputs": []
    },
    {
      "cell_type": "code",
      "source": [
        "#How would you write a regex that matches a sentence where the first word is either Alice, Bob, or Carol; the second word is either eats, pets, or throws; the third word is apples, cats, or baseballs; and the sentence ends with a period? This regex should be case-insensitive. It must match the following:\n",
        "\n",
        "#'Alice eats apples.'\n",
        "#'Bob pets cats.'\n",
        "#'Carol throws baseballs.'\n",
        "#'Alice throws Apples.'\n",
        "#'BOB EATS CATS.'\n",
        "#but not the following:\n",
        "#'RoboCop eats apples.'\n",
        "#'ALICE THROWS FOOTBALLS.'\n",
        "#'Carol eats 7 cats.'\n",
        "\n",
        "\n",
        "\n",
        "#Answer -re.compile(r'(Alice|Bob|Carol)\\s(eats|pets|throws)\\s(apples|cats|baseballs).', re.IGNORECASE)"
      ],
      "metadata": {
        "id": "_GnGVKTv5xce"
      },
      "execution_count": 26,
      "outputs": []
    },
    {
      "cell_type": "code",
      "source": [],
      "metadata": {
        "id": "PGzuuCXF5_BJ"
      },
      "execution_count": null,
      "outputs": []
    }
  ]
}