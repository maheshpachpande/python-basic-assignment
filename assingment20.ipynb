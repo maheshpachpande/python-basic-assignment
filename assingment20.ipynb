{
  "cells": [
    {
      "cell_type": "markdown",
      "id": "liberal-account",
      "metadata": {
        "id": "liberal-account"
      },
      "source": [
        "<b>Number 1 - \n",
        "- Question -\n",
        "    \n",
        "> Set the variable test1 to the string 'This is a test of the emergency text system,' and save test1 to a file named test.txt.\n",
        "\n",
        "- Answer -\n",
        "    \n",
        ">\n",
        "\n",
        "    \n"
      ]
    },
    {
      "cell_type": "code",
      "execution_count": null,
      "id": "e63cbe12",
      "metadata": {
        "id": "e63cbe12",
        "outputId": "92ce9930-72ae-40d6-ef20-9205bcc22fe1"
      },
      "outputs": [
        {
          "data": {
            "text/plain": [
              "43"
            ]
          },
          "execution_count": 1,
          "metadata": {},
          "output_type": "execute_result"
        }
      ],
      "source": [
        "test1 = 'This is a test of the emergency text system'\n",
        "len(test1)"
      ]
    },
    {
      "cell_type": "code",
      "execution_count": null,
      "id": "a764bd92",
      "metadata": {
        "id": "a764bd92"
      },
      "outputs": [],
      "source": [
        "with open('test.txt', 'wt') as outfile:\n",
        "    outfile.write(test1)"
      ]
    },
    {
      "cell_type": "code",
      "execution_count": null,
      "id": "931debca",
      "metadata": {
        "id": "931debca"
      },
      "outputs": [],
      "source": [
        "outfile.close()"
      ]
    },
    {
      "cell_type": "markdown",
      "id": "1f1065c2",
      "metadata": {
        "id": "1f1065c2"
      },
      "source": [
        "<b>------------------------------------------------------------------------------------------------------------------------------------------------------------------------------------------------------------------"
      ]
    },
    {
      "cell_type": "markdown",
      "id": "sharing-council",
      "metadata": {
        "id": "sharing-council"
      },
      "source": [
        "<b>Number 2 - \n",
        "- Question -\n",
        "    \n",
        "> Read the contents of the file test.txt into the variable test2. Is there a difference between test 1 and test 2?\n",
        "\n",
        "- Answer -\n",
        "    \n",
        ">\n",
        "\n",
        "    \n"
      ]
    },
    {
      "cell_type": "code",
      "execution_count": null,
      "id": "3076b874",
      "metadata": {
        "id": "3076b874",
        "outputId": "3b9125d0-80fd-4a3b-916f-cc9d41d9439e"
      },
      "outputs": [
        {
          "data": {
            "text/plain": [
              "43"
            ]
          },
          "execution_count": 8,
          "metadata": {},
          "output_type": "execute_result"
        }
      ],
      "source": [
        "with open('test.txt', 'rt') as infile:\n",
        "    test2 = infile.read()\n",
        "len(test2)"
      ]
    },
    {
      "cell_type": "code",
      "execution_count": null,
      "id": "98dfe544",
      "metadata": {
        "id": "98dfe544",
        "outputId": "a6134681-d356-4cee-940a-5eaffa45855c"
      },
      "outputs": [
        {
          "data": {
            "text/plain": [
              "True"
            ]
          },
          "execution_count": 9,
          "metadata": {},
          "output_type": "execute_result"
        }
      ],
      "source": [
        " test1 == test2"
      ]
    },
    {
      "cell_type": "markdown",
      "id": "e33defb8",
      "metadata": {
        "id": "e33defb8"
      },
      "source": [
        "<b>------------------------------------------------------------------------------------------------------------------------------------------------------------------------------------------------------------------"
      ]
    },
    {
      "cell_type": "markdown",
      "id": "acute-talent",
      "metadata": {
        "id": "acute-talent"
      },
      "source": [
        "<b>Number 3 - \n",
        "- Question -\n",
        "    \n",
        "> Create a CSV file called books.csv by using these lines: \n",
        "    \n",
        "> title,author,year\n",
        "    \n",
        "> The Weirdstone of Brisingamen,Alan Garner,1960\n",
        "    \n",
        "> Perdido Street Station,China Miéville,2000\n",
        "    \n",
        "> Thud!,Terry Pratchett,2005\n",
        "    \n",
        "> The Spellman Files,Lisa Lutz,2007\n",
        "    \n",
        "> Small Gods,Terry Pratchett,1992\n",
        "\n",
        "\n",
        "\n",
        "- Answer -\n",
        "    \n",
        ">\n"
      ]
    },
    {
      "cell_type": "code",
      "execution_count": null,
      "id": "556c28dc",
      "metadata": {
        "id": "556c28dc"
      },
      "outputs": [],
      "source": [
        "text = '''title,author,year\n",
        "The Weirdstone of Brisingamen,Alan Garner,1960\n",
        "Perdido Street Station,China Miéville,2000\n",
        "Thud!,Terry Pratchett,2005\n",
        "The Spellman Files,Lisa Lutz,2007\n",
        "Small Gods,Terry Pratchett,1992\n",
        "'''\n",
        "with open('books.csv', 'wt') as outfile:\n",
        "    outfile.write(text)"
      ]
    },
    {
      "cell_type": "markdown",
      "id": "201681ae",
      "metadata": {
        "id": "201681ae"
      },
      "source": [
        "<b>------------------------------------------------------------------------------------------------------------------------------------------------------------------------------------------------------------------"
      ]
    },
    {
      "cell_type": "markdown",
      "id": "outdoor-setup",
      "metadata": {
        "id": "outdoor-setup"
      },
      "source": [
        "<b>Number 4 - \n",
        "- Question -\n",
        "    \n",
        "> Use the sqlite3 module to create a SQLite database called books.db, and a table called books with these fields: title (text), author (text), and year (integer).\n",
        "\n",
        "- Answer -\n",
        "    \n",
        ">\n",
        "\n",
        "    \n"
      ]
    },
    {
      "cell_type": "code",
      "execution_count": null,
      "id": "775e9e71",
      "metadata": {
        "id": "775e9e71",
        "outputId": "878b49cb-ea85-412c-d0cd-a79e929be8ed"
      },
      "outputs": [
        {
          "data": {
            "text/plain": [
              "<sqlite3.Cursor at 0x232a4da8030>"
            ]
          },
          "execution_count": 11,
          "metadata": {},
          "output_type": "execute_result"
        }
      ],
      "source": [
        "import sqlite3\n",
        "db = sqlite3.connect('books.db')\n",
        "curs = db.cursor()\n",
        "curs.execute('''create table book (title text, author text, year int)''')"
      ]
    },
    {
      "cell_type": "code",
      "execution_count": null,
      "id": "a6a29a29",
      "metadata": {
        "id": "a6a29a29"
      },
      "outputs": [],
      "source": [
        " db.commit()"
      ]
    },
    {
      "cell_type": "markdown",
      "id": "dfe5e280",
      "metadata": {
        "id": "dfe5e280"
      },
      "source": [
        "<b>------------------------------------------------------------------------------------------------------------------------------------------------------------------------------------------------------------------"
      ]
    },
    {
      "cell_type": "markdown",
      "id": "caring-viewer",
      "metadata": {
        "id": "caring-viewer"
      },
      "source": [
        "<b>Number 5 - \n",
        "- Question -\n",
        "    \n",
        "> Read books.csv and insert its data into the book table.\n",
        "\n",
        "- Answer -\n",
        "    \n",
        ">\n",
        "\n",
        "    \n"
      ]
    },
    {
      "cell_type": "code",
      "execution_count": null,
      "id": "3a77990e",
      "metadata": {
        "id": "3a77990e"
      },
      "outputs": [],
      "source": [
        "import csv\n",
        "import sqlite3\n",
        "ins_str = 'insert into book values(?, ?, ?)'\n",
        "with open('books.csv', 'rt') as infile:\n",
        "    books = csv.DictReader(infile)\n",
        "    for book in books:\n",
        "        curs.execute(ins_str, (book['title'], book['author'], book['year']))"
      ]
    },
    {
      "cell_type": "code",
      "execution_count": null,
      "id": "9b02e8c5",
      "metadata": {
        "id": "9b02e8c5"
      },
      "outputs": [],
      "source": [
        "db.commit()"
      ]
    },
    {
      "cell_type": "markdown",
      "id": "a846953e",
      "metadata": {
        "id": "a846953e"
      },
      "source": [
        "<b>------------------------------------------------------------------------------------------------------------------------------------------------------------------------------------------------------------------"
      ]
    },
    {
      "cell_type": "markdown",
      "id": "complimentary-cabinet",
      "metadata": {
        "id": "complimentary-cabinet"
      },
      "source": [
        "<b>Number 6 - \n",
        "- Question -\n",
        "    \n",
        "> Select and print the title column from the book table in alphabetical order.\n",
        "\n",
        "- Answer -\n",
        "    \n",
        ">\n",
        "\n",
        "    \n"
      ]
    },
    {
      "cell_type": "code",
      "execution_count": null,
      "id": "de2d912b",
      "metadata": {
        "id": "de2d912b",
        "outputId": "a6fa9ee9-58ef-41f8-c388-64af7696367f"
      },
      "outputs": [
        {
          "name": "stdout",
          "output_type": "stream",
          "text": [
            "('Perdido Street Station',)\n",
            "('Small Gods',)\n",
            "('The Spellman Files',)\n",
            "('The Weirdstone of Brisingamen',)\n",
            "('Thud!',)\n"
          ]
        }
      ],
      "source": [
        "sql = 'select title from book order by title asc'\n",
        "for row in db.execute(sql):\n",
        "    print(row)"
      ]
    },
    {
      "cell_type": "code",
      "execution_count": null,
      "id": "963e1de8",
      "metadata": {
        "id": "963e1de8",
        "outputId": "9374f1fc-487c-4c4b-b741-cdebeb5fb1f0"
      },
      "outputs": [
        {
          "name": "stdout",
          "output_type": "stream",
          "text": [
            "Perdido Street Station\n",
            "Small Gods\n",
            "The Spellman Files\n",
            "The Weirdstone of Brisingamen\n",
            "Thud!\n"
          ]
        }
      ],
      "source": [
        "#to print the title value without that tuple stuff (parentheses and comma):\n",
        "for row in db.execute(sql):\n",
        "    print(row[0])"
      ]
    },
    {
      "cell_type": "markdown",
      "id": "39bc626b",
      "metadata": {
        "id": "39bc626b"
      },
      "source": [
        "<b>------------------------------------------------------------------------------------------------------------------------------------------------------------------------------------------------------------------"
      ]
    },
    {
      "cell_type": "markdown",
      "id": "special-graduation",
      "metadata": {
        "id": "special-graduation"
      },
      "source": [
        "<b>Number 7 - \n",
        "- Question -\n",
        "    \n",
        "> From the book table, select and print all columns in the order of publication.\n",
        "\n",
        "- Answer -\n",
        "    \n",
        ">\n",
        "\n",
        "    \n"
      ]
    },
    {
      "cell_type": "code",
      "execution_count": null,
      "id": "ed07c931",
      "metadata": {
        "id": "ed07c931",
        "outputId": "605334e0-e8d2-4f90-c30c-c981c662607d"
      },
      "outputs": [
        {
          "name": "stdout",
          "output_type": "stream",
          "text": [
            "('The Weirdstone of Brisingamen', 'Alan Garner', 1960)\n",
            "('Small Gods', 'Terry Pratchett', 1992)\n",
            "('Perdido Street Station', 'China Miéville', 2000)\n",
            "('Thud!', 'Terry Pratchett', 2005)\n",
            "('The Spellman Files', 'Lisa Lutz', 2007)\n"
          ]
        }
      ],
      "source": [
        "for row in db.execute('select * from book order by year'):\n",
        "    print(row)"
      ]
    },
    {
      "cell_type": "code",
      "execution_count": null,
      "id": "10525add",
      "metadata": {
        "id": "10525add",
        "outputId": "ad9fa4e9-e83f-4c5a-ef25-15ad2456c2e3"
      },
      "outputs": [
        {
          "name": "stdout",
          "output_type": "stream",
          "text": [
            "The Weirdstone of Brisingamen, Alan Garner, 1960\n",
            "Small Gods, Terry Pratchett, 1992\n",
            "Perdido Street Station, China Miéville, 2000\n",
            "Thud!, Terry Pratchett, 2005\n",
            "The Spellman Files, Lisa Lutz, 2007\n"
          ]
        }
      ],
      "source": [
        "#To print all the fields in each row, just separate with a comma and space:\n",
        "for row in db.execute('select * from book order by year'):\n",
        "    print(*row, sep=', ')"
      ]
    },
    {
      "cell_type": "markdown",
      "id": "475f9f76",
      "metadata": {
        "id": "475f9f76"
      },
      "source": [
        "<b>------------------------------------------------------------------------------------------------------------------------------------------------------------------------------------------------------------------"
      ]
    },
    {
      "cell_type": "markdown",
      "id": "conscious-adult",
      "metadata": {
        "id": "conscious-adult"
      },
      "source": [
        "<b>Number 8 - \n",
        "- Question -\n",
        "    \n",
        "> Use the sqlalchemy module to connect to the sqlite3 database books.db that you just made in exercise 6.\n",
        "\n",
        "- Answer -\n",
        "    \n",
        ">\n",
        "\n",
        "    \n"
      ]
    },
    {
      "cell_type": "code",
      "execution_count": null,
      "id": "928e0640",
      "metadata": {
        "id": "928e0640",
        "outputId": "f9fc86d2-418d-47f1-e664-c58ad95a02b6"
      },
      "outputs": [
        {
          "name": "stdout",
          "output_type": "stream",
          "text": [
            "('Perdido Street Station',)\n",
            "('Small Gods',)\n",
            "('The Spellman Files',)\n",
            "('The Weirdstone of Brisingamen',)\n",
            "('Thud!',)\n"
          ]
        }
      ],
      "source": [
        "import sqlalchemy\n",
        "conn = sqlalchemy.create_engine('sqlite:///books.db')\n",
        "sql = 'select title from book order by title asc'\n",
        "rows = conn.execute(sql)\n",
        "for row in rows:\n",
        "    print(row)"
      ]
    },
    {
      "cell_type": "markdown",
      "id": "614dd54e",
      "metadata": {
        "id": "614dd54e"
      },
      "source": [
        "<b>------------------------------------------------------------------------------------------------------------------------------------------------------------------------------------------------------------------"
      ]
    },
    {
      "cell_type": "markdown",
      "id": "dynamic-madison",
      "metadata": {
        "id": "dynamic-madison"
      },
      "source": [
        "<b>Number 9 - \n",
        "- Question -\n",
        "    \n",
        "> Install the Redis server and the Python redis library (pip install redis) on your computer. Create a Redis hash called test with the fields count (1) and name ('Fester Bestertester'). Print all the fields for test.\n",
        "\n",
        "- Answer -\n",
        "    \n",
        ">\n",
        "\n",
        "    \n"
      ]
    },
    {
      "cell_type": "code",
      "execution_count": null,
      "id": "1f4e4457",
      "metadata": {
        "id": "1f4e4457",
        "outputId": "c72eb9af-2465-4d9d-8ef1-2ff54965a599"
      },
      "outputs": [
        {
          "data": {
            "text/plain": [
              "0"
            ]
          },
          "execution_count": 3,
          "metadata": {},
          "output_type": "execute_result"
        }
      ],
      "source": [
        "import redis\n",
        "conn = redis.Redis()\n",
        "conn.delete('test')"
      ]
    },
    {
      "cell_type": "code",
      "execution_count": null,
      "id": "26b92ecf",
      "metadata": {
        "id": "26b92ecf",
        "outputId": "14a9d51a-a4c1-4dc0-9f8b-4e58a0738647"
      },
      "outputs": [
        {
          "name": "stderr",
          "output_type": "stream",
          "text": [
            "<ipython-input-11-b2322e814ff4>:1: DeprecationWarning: Redis.hmset() is deprecated. Use Redis.hset() instead.\n",
            "  conn.hmset('test', {'count': 1, 'name': 'Fester Bestertester'})\n"
          ]
        },
        {
          "data": {
            "text/plain": [
              "True"
            ]
          },
          "execution_count": 11,
          "metadata": {},
          "output_type": "execute_result"
        }
      ],
      "source": [
        "conn.hmset('test', {'count': 1, 'name': 'Fester Bestertester'})"
      ]
    },
    {
      "cell_type": "code",
      "execution_count": null,
      "id": "e4f12fba",
      "metadata": {
        "id": "e4f12fba",
        "outputId": "a0efd0af-7d8c-4f94-bdd2-23ad07cd67a5"
      },
      "outputs": [
        {
          "data": {
            "text/plain": [
              "{b'count': b'1', b'name': b'Fester Bestertester'}"
            ]
          },
          "execution_count": 12,
          "metadata": {},
          "output_type": "execute_result"
        }
      ],
      "source": [
        "conn.hgetall('test')"
      ]
    },
    {
      "cell_type": "markdown",
      "id": "d431d53d",
      "metadata": {
        "id": "d431d53d"
      },
      "source": [
        "<b>------------------------------------------------------------------------------------------------------------------------------------------------------------------------------------------------------------------"
      ]
    },
    {
      "cell_type": "markdown",
      "id": "continuing-drama",
      "metadata": {
        "id": "continuing-drama"
      },
      "source": [
        "<b>Number 10 - \n",
        "- Question -\n",
        "    \n",
        "> Increment the count field of test and print it.\n",
        "\n",
        "- Answer -\n",
        "    \n",
        ">\n",
        "\n",
        "    \n"
      ]
    },
    {
      "cell_type": "code",
      "execution_count": null,
      "id": "238e6202",
      "metadata": {
        "id": "238e6202",
        "outputId": "3e8332fd-4957-4b1a-8350-3f66bf79a5f1"
      },
      "outputs": [
        {
          "data": {
            "text/plain": [
              "4"
            ]
          },
          "execution_count": 13,
          "metadata": {},
          "output_type": "execute_result"
        }
      ],
      "source": [
        "conn.hincrby('test', 'count', 3)"
      ]
    },
    {
      "cell_type": "code",
      "execution_count": null,
      "id": "1ff986d8",
      "metadata": {
        "id": "1ff986d8",
        "outputId": "9117f9d4-4d21-489b-f7f9-e0f599751b0e"
      },
      "outputs": [
        {
          "data": {
            "text/plain": [
              "b'4'"
            ]
          },
          "execution_count": 14,
          "metadata": {},
          "output_type": "execute_result"
        }
      ],
      "source": [
        "conn.hget('test', 'count')"
      ]
    },
    {
      "cell_type": "markdown",
      "id": "add0d0b4",
      "metadata": {
        "id": "add0d0b4"
      },
      "source": [
        "<b>------------------------------------------------------------------------------------------------------------------------------------------------------------------------------------------------------------------"
      ]
    }
  ],
  "metadata": {
    "kernelspec": {
      "display_name": "Python 3",
      "language": "python",
      "name": "python3"
    },
    "language_info": {
      "codemirror_mode": {
        "name": "ipython",
        "version": 3
      },
      "file_extension": ".py",
      "mimetype": "text/x-python",
      "name": "python",
      "nbconvert_exporter": "python",
      "pygments_lexer": "ipython3",
      "version": "3.8.8"
    },
    "toc": {
      "base_numbering": 1,
      "nav_menu": {},
      "number_sections": true,
      "sideBar": true,
      "skip_h1_title": false,
      "title_cell": "Table of Contents",
      "title_sidebar": "Contents",
      "toc_cell": false,
      "toc_position": {},
      "toc_section_display": true,
      "toc_window_display": false
    },
    "colab": {
      "provenance": []
    }
  },
  "nbformat": 4,
  "nbformat_minor": 5
}