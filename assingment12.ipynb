{
  "nbformat": 4,
  "nbformat_minor": 0,
  "metadata": {
    "colab": {
      "provenance": []
    },
    "kernelspec": {
      "name": "python3",
      "display_name": "Python 3"
    },
    "language_info": {
      "name": "python"
    }
  },
  "cells": [
    {
      "cell_type": "code",
      "execution_count": 1,
      "metadata": {
        "id": "AxMMxB0iyCW_"
      },
      "outputs": [],
      "source": [
        "# In what modes should the PdfFileReader() and PdfFileWriter() File objects will be opened?\n",
        "\n",
        "#Answer -PdfFileReader() needs to be opened in read-binary mode by passing 'rb' as the second argument to open(). Likewise, the File object passed to PyPDF2. PdfFileWriter() needs to be opened in write-binary mode with 'wb'."
      ]
    },
    {
      "cell_type": "code",
      "source": [
        "#From a PdfFileReader object, how do you get a Page object for page 5?\n",
        "\n",
        "#Answer -Calling getPage(4) will return a page object for page 5, since page 0 is the first page."
      ],
      "metadata": {
        "id": "nZbPmYOIyNvK"
      },
      "execution_count": 2,
      "outputs": []
    },
    {
      "cell_type": "code",
      "source": [
        "#What PdfFileReader variable stores the number of pages in the PDF document?\n",
        "\n",
        "#Answer -The total number of pages in the document is stored in the numPages variable of a PdfFileReader object."
      ],
      "metadata": {
        "id": "O2QD8mRoySIS"
      },
      "execution_count": 3,
      "outputs": []
    },
    {
      "cell_type": "code",
      "source": [
        "#If a PdfFileReader object’s PDF is encrypted with the password swordfish, what must you do before you can obtain Page objects from it?\n",
        "\n",
        "#Answer -To read an encrypted PDF, call the decrypt() function and pass the password as a string, in our case it is swordfish. After we call decrypt() with the correct password, you’ll see that calling getPage() no longer causes an error. Call decrypt('swordfish')."
      ],
      "metadata": {
        "id": "acjiYMSGyV7Z"
      },
      "execution_count": 4,
      "outputs": []
    },
    {
      "cell_type": "code",
      "source": [
        "#What methods do you use to rotate a page?\n",
        "\n",
        "#Answer -The pages of a PDF can be rotated in 90-degree increments with the rotateClockwise() and rotateCounterClockwise() methods."
      ],
      "metadata": {
        "id": "6Uzrrl2EyZvS"
      },
      "execution_count": 5,
      "outputs": []
    },
    {
      "cell_type": "code",
      "source": [
        "#What is the difference between a Run object and a Paragraph object?\n",
        "\n",
        "#Answer -A document contains multiple paragraphs. A paragraph begins on a new line and contains multiple runs. Runs are contiguous groups of charecters within a paragraph."
      ],
      "metadata": {
        "id": "PpCfW5_XydWf"
      },
      "execution_count": 6,
      "outputs": []
    },
    {
      "cell_type": "code",
      "source": [
        "#How do you obtain a list of Paragraph objects for a Document object that’s stored in a variable named doc?\n",
        "\n",
        "#Answer -len(doc.paragraphs)"
      ],
      "metadata": {
        "id": "e3eDQ-r7yh0u"
      },
      "execution_count": 7,
      "outputs": []
    },
    {
      "cell_type": "code",
      "source": [
        "#What type of object has bold, underline, italic, strike, and outline variables?\n",
        "\n",
        "#Answer -Run Object"
      ],
      "metadata": {
        "id": "1NRqChykynma"
      },
      "execution_count": 8,
      "outputs": []
    },
    {
      "cell_type": "code",
      "source": [
        "#What is the difference between False, True, and None for the bold variable?\n",
        "\n",
        "#Answer -True always makes the run object bolded and False makes it always not bolded, no matter what the style's bold settings is. None will make the Run object just use the style's bold settings."
      ],
      "metadata": {
        "id": "AvgYByeFyrGe"
      },
      "execution_count": 9,
      "outputs": []
    },
    {
      "cell_type": "code",
      "source": [
        "#How do you create a Document object for a new Word document?\n",
        "\n",
        "#Answer -mydoc = docx.Document()"
      ],
      "metadata": {
        "id": "RaT-bAfayuY5"
      },
      "execution_count": 10,
      "outputs": []
    },
    {
      "cell_type": "code",
      "source": [
        "#How do you add a paragraph with the text 'Hello, there!' to a Document object stored in a variable named doc?\n",
        "\n",
        "#Answer -doc.add_paragraph('Hello, there!')"
      ],
      "metadata": {
        "id": "6XKn3b5JyyTu"
      },
      "execution_count": 11,
      "outputs": []
    },
    {
      "cell_type": "code",
      "source": [
        "#What integers represent the levels of headings available in Word documents?\n",
        "\n",
        "#Answer -The arguments to add_heading() are a string of the heading text and an integer from 0 to 4. The integer 0 makes the heading the Title style, which is used for the top of the document. Integers 1 to 4 are for various heading levels, with 1 being the main heading and 4 the lowest subheading. The add_heading() function returns a Paragraph object to save you the step of extracting it from the Document object as a separate step."
      ],
      "metadata": {
        "id": "cn3LcEMEy2Xg"
      },
      "execution_count": 12,
      "outputs": []
    },
    {
      "cell_type": "code",
      "source": [],
      "metadata": {
        "id": "Y8tz-lozy62V"
      },
      "execution_count": null,
      "outputs": []
    }
  ]
}