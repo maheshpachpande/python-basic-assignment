{
  "nbformat": 4,
  "nbformat_minor": 0,
  "metadata": {
    "colab": {
      "provenance": []
    },
    "kernelspec": {
      "name": "python3",
      "display_name": "Python 3"
    },
    "language_info": {
      "name": "python"
    }
  },
  "cells": [
    {
      "cell_type": "code",
      "execution_count": 1,
      "metadata": {
        "id": "QsVsj_QHvz-V"
      },
      "outputs": [],
      "source": [
        "# How do you distinguish between shutil.copy() and shutil.copytree()?\n",
        "\n",
        "#Answer -\"shutil.copy()\" will copy a single file.\"shutil.copytree()\" will copy an entire folder and every folder and file contained in it."
      ]
    },
    {
      "cell_type": "code",
      "source": [
        "#What function is used to rename files?\n",
        "\n",
        "#Answer -shutil.move will rename files."
      ],
      "metadata": {
        "id": "Kg78kEwAv-fh"
      },
      "execution_count": 2,
      "outputs": []
    },
    {
      "cell_type": "code",
      "source": [
        "#What is the difference between the delete functions in the send2trash and shutil modules?\n",
        "\n",
        "#Answer -shutil.rmtree() function irreversibly deletes files and folders. send2trash will send folders and files to computer's trash or recycle bin instead of permanently deleting them"
      ],
      "metadata": {
        "id": "QUxP-9ahwH3n"
      },
      "execution_count": 3,
      "outputs": []
    },
    {
      "cell_type": "code",
      "source": [
        "#ZipFile objects have a close() method just like File objects’ close() method. What ZipFile method is equivalent to File objects’ open() method?\n",
        "\n",
        "# Answer -ZipFile method is equivalant to File objects' open() method"
      ],
      "metadata": {
        "id": "k2z0Tnu3wL8Y"
      },
      "execution_count": 4,
      "outputs": []
    },
    {
      "cell_type": "code",
      "source": [
        "import zipfile\n",
        "newZip = zipfile.ZipFile('new.zip', 'w')"
      ],
      "metadata": {
        "id": "vDQ0Zf9ewVtB"
      },
      "execution_count": 5,
      "outputs": []
    },
    {
      "cell_type": "code",
      "source": [
        "#Create a programme that searches a folder tree for files with a certain file extension (such as .pdf or .jpg). Copy these files from whatever location they are in to a new folder."
      ],
      "metadata": {
        "id": "659bBK62wZOR"
      },
      "execution_count": 6,
      "outputs": []
    },
    {
      "cell_type": "code",
      "source": [],
      "metadata": {
        "id": "RkXuTBXawcmr"
      },
      "execution_count": null,
      "outputs": []
    }
  ]
}