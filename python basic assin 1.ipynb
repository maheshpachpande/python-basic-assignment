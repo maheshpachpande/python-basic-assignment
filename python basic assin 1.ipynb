{
 "cells": [
  {
   "cell_type": "code",
   "execution_count": null,
   "id": "e5c8a6af-4d39-4719-8d4d-7c8c45c712e4",
   "metadata": {},
   "outputs": [],
   "source": [
    "# 1. In the below elements which of them are values or an expression? eg:- values can be\n",
    "#    integer or string and expressions will be mathematical operators.\n",
    "#    *\n",
    "#    \"hello\"\n",
    "#    -87.8\n",
    "#      -\n",
    "#     /\n",
    "#     +\n",
    "#     6"
   ]
  },
  {
   "cell_type": "code",
   "execution_count": 1,
   "id": "dd3fb2fa-4349-4877-9e08-371d6423522c",
   "metadata": {},
   "outputs": [
    {
     "data": {
      "text/plain": [
       "25"
      ]
     },
     "execution_count": 1,
     "metadata": {},
     "output_type": "execute_result"
    }
   ],
   "source": [
    "5*5"
   ]
  },
  {
   "cell_type": "code",
   "execution_count": 3,
   "id": "66cdebb8-64f1-4667-a87e-5295b5400d44",
   "metadata": {},
   "outputs": [
    {
     "data": {
      "text/plain": [
       "'mahesh mahesh '"
      ]
     },
     "execution_count": 3,
     "metadata": {},
     "output_type": "execute_result"
    }
   ],
   "source": [
    "\"mahesh \"*2"
   ]
  },
  {
   "cell_type": "code",
   "execution_count": 4,
   "id": "498e744c-c6f4-4bc3-a17e-937c0916d666",
   "metadata": {},
   "outputs": [
    {
     "data": {
      "text/plain": [
       "25"
      ]
     },
     "execution_count": 4,
     "metadata": {},
     "output_type": "execute_result"
    }
   ],
   "source": [
    "5**2"
   ]
  },
  {
   "cell_type": "code",
   "execution_count": 5,
   "id": "e1c02edf-c6e4-4840-b7a2-90fdbb814743",
   "metadata": {},
   "outputs": [
    {
     "data": {
      "text/plain": [
       "'hello'"
      ]
     },
     "execution_count": 5,
     "metadata": {},
     "output_type": "execute_result"
    }
   ],
   "source": [
    "\"hello\""
   ]
  },
  {
   "cell_type": "code",
   "execution_count": 14,
   "id": "910a7d73-f4c4-4112-bf92-665c6a8bd5b6",
   "metadata": {},
   "outputs": [
    {
     "data": {
      "text/plain": [
       "float"
      ]
     },
     "execution_count": 14,
     "metadata": {},
     "output_type": "execute_result"
    }
   ],
   "source": [
    "type(-87.8)"
   ]
  },
  {
   "cell_type": "code",
   "execution_count": 9,
   "id": "f83d4d44-a103-435f-8312-148751c66028",
   "metadata": {},
   "outputs": [
    {
     "data": {
      "text/plain": [
       "50"
      ]
     },
     "execution_count": 9,
     "metadata": {},
     "output_type": "execute_result"
    }
   ],
   "source": [
    "100-50"
   ]
  },
  {
   "cell_type": "code",
   "execution_count": 10,
   "id": "98642dd3-5429-44b0-a553-25994c8179d9",
   "metadata": {},
   "outputs": [
    {
     "data": {
      "text/plain": [
       "5.0"
      ]
     },
     "execution_count": 10,
     "metadata": {},
     "output_type": "execute_result"
    }
   ],
   "source": [
    "25/5"
   ]
  },
  {
   "cell_type": "code",
   "execution_count": 11,
   "id": "eb23cf2c-360d-4da3-87e8-9b0eea6a3d47",
   "metadata": {},
   "outputs": [
    {
     "data": {
      "text/plain": [
       "10"
      ]
     },
     "execution_count": 11,
     "metadata": {},
     "output_type": "execute_result"
    }
   ],
   "source": [
    "5+5"
   ]
  },
  {
   "cell_type": "code",
   "execution_count": 12,
   "id": "3e56d169-4139-4fac-8766-c132e41114b4",
   "metadata": {},
   "outputs": [
    {
     "data": {
      "text/plain": [
       "int"
      ]
     },
     "execution_count": 12,
     "metadata": {},
     "output_type": "execute_result"
    }
   ],
   "source": [
    "type(6)"
   ]
  },
  {
   "cell_type": "code",
   "execution_count": 15,
   "id": "067879eb-8cf2-4ca9-ae83-a5792f01fe8e",
   "metadata": {},
   "outputs": [],
   "source": [
    "#   2. What is the difference between string and variable?"
   ]
  },
  {
   "cell_type": "code",
   "execution_count": 16,
   "id": "ac589735-3f27-4353-8772-1e75f94853ca",
   "metadata": {},
   "outputs": [],
   "source": [
    "# string= string is type of stored information in variable e.g \"mahesh\". string is denoted by \" \"/'',\n",
    "# variable= Variables are symbol that can be store data in program."
   ]
  },
  {
   "cell_type": "code",
   "execution_count": 17,
   "id": "03c84a0b-82f8-4114-8d84-05330323fcbe",
   "metadata": {},
   "outputs": [],
   "source": [
    "# 3. Describe three different data types.\n",
    "# 1. List= list is class of data type which is mutable entity, contain series if value in []\n",
    "# 2. .numeric= data type that represent which has numeric value, it can be integer, float, complex numbers. \n",
    "# 3. tuple= tuple is class of data type which is immutable, it contain group of value like a list, string, number.,it defined by ()"
   ]
  },
  {
   "cell_type": "code",
   "execution_count": 18,
   "id": "172d27c1-aff1-44a6-b8fe-a72979903855",
   "metadata": {},
   "outputs": [],
   "source": [
    "# 4. What is an expression made up of? What do all expressions do?\n",
    "# expression is the combination of variables, operations"
   ]
  },
  {
   "cell_type": "code",
   "execution_count": 33,
   "id": "272fdb01-3b95-496f-ad97-2274a40a86db",
   "metadata": {},
   "outputs": [],
   "source": [
    "a=50\n",
    "b=30"
   ]
  },
  {
   "cell_type": "code",
   "execution_count": 34,
   "id": "9cee0e78-20e2-4839-be31-e855e7528eb0",
   "metadata": {},
   "outputs": [
    {
     "data": {
      "text/plain": [
       "80"
      ]
     },
     "execution_count": 34,
     "metadata": {},
     "output_type": "execute_result"
    }
   ],
   "source": [
    "a+b"
   ]
  },
  {
   "cell_type": "code",
   "execution_count": 35,
   "id": "1265f90e-d66e-4c60-a15e-6b39b70e1b04",
   "metadata": {},
   "outputs": [
    {
     "data": {
      "text/plain": [
       "1.6666666666666667"
      ]
     },
     "execution_count": 35,
     "metadata": {},
     "output_type": "execute_result"
    }
   ],
   "source": [
    "a/b"
   ]
  },
  {
   "cell_type": "code",
   "execution_count": 36,
   "id": "12548928-eaba-44b8-8ea4-85de9d515e77",
   "metadata": {},
   "outputs": [
    {
     "data": {
      "text/plain": [
       "1500"
      ]
     },
     "execution_count": 36,
     "metadata": {},
     "output_type": "execute_result"
    }
   ],
   "source": [
    "a*b"
   ]
  },
  {
   "cell_type": "code",
   "execution_count": 37,
   "id": "37977928-c68d-4288-83c9-54bc4d542021",
   "metadata": {},
   "outputs": [
    {
     "data": {
      "text/plain": [
       "931322574615478515625000000000000000000000000000000"
      ]
     },
     "execution_count": 37,
     "metadata": {},
     "output_type": "execute_result"
    }
   ],
   "source": [
    "a**b"
   ]
  },
  {
   "cell_type": "code",
   "execution_count": 29,
   "id": "025393f3-622d-443e-bedf-02ae3ca29e7b",
   "metadata": {},
   "outputs": [
    {
     "data": {
      "text/plain": [
       "str"
      ]
     },
     "execution_count": 29,
     "metadata": {},
     "output_type": "execute_result"
    }
   ],
   "source": [
    "type(a)"
   ]
  },
  {
   "cell_type": "code",
   "execution_count": 30,
   "id": "2ecbbf12-7690-497d-85ef-0f68a7744d7b",
   "metadata": {},
   "outputs": [
    {
     "data": {
      "text/plain": [
       "int"
      ]
     },
     "execution_count": 30,
     "metadata": {},
     "output_type": "execute_result"
    }
   ],
   "source": [
    "type(int(a))"
   ]
  },
  {
   "cell_type": "code",
   "execution_count": 31,
   "id": "b52012da-0d33-46cd-8c15-ec8fd67af65f",
   "metadata": {},
   "outputs": [
    {
     "data": {
      "text/plain": [
       "float"
      ]
     },
     "execution_count": 31,
     "metadata": {},
     "output_type": "execute_result"
    }
   ],
   "source": [
    "type(float(a))"
   ]
  },
  {
   "cell_type": "code",
   "execution_count": 38,
   "id": "77a172b5-2e6d-44ab-9706-6be5377715e6",
   "metadata": {},
   "outputs": [
    {
     "name": "stdout",
     "output_type": "stream",
     "text": [
      "50\n"
     ]
    }
   ],
   "source": [
    "print(a)"
   ]
  },
  {
   "cell_type": "code",
   "execution_count": 39,
   "id": "182b067e-4fe3-4e25-87ee-9e3844e77221",
   "metadata": {},
   "outputs": [],
   "source": [
    "# 5. This assignment statements, like spam = 10. What is the difference between an expression and a statement?"
   ]
  },
  {
   "cell_type": "code",
   "execution_count": 42,
   "id": "62d0da8b-b080-43bf-9587-cb6763699f00",
   "metadata": {},
   "outputs": [],
   "source": [
    "spam=10\n"
   ]
  },
  {
   "cell_type": "code",
   "execution_count": 41,
   "id": "09ec2eed-654a-42cb-853c-c7864ee38cf6",
   "metadata": {},
   "outputs": [],
   "source": [
    "# expression is the combination of value and operations\n",
    "# statement is the standalone action or command"
   ]
  },
  {
   "cell_type": "code",
   "execution_count": 43,
   "id": "3d4ee870-c280-496f-bde6-5f2e7c1de7da",
   "metadata": {},
   "outputs": [
    {
     "name": "stdout",
     "output_type": "stream",
     "text": [
      "10\n"
     ]
    }
   ],
   "source": [
    "print(spam)"
   ]
  },
  {
   "cell_type": "code",
   "execution_count": 44,
   "id": "65afac93-22b8-4d6e-85cf-45cd2b1df9c1",
   "metadata": {},
   "outputs": [],
   "source": [
    "#  6. After running the following code, what does the variable bacon contain?"
   ]
  },
  {
   "cell_type": "code",
   "execution_count": 45,
   "id": "8ffe57c1-6c16-4c99-8629-bcc8f3fee550",
   "metadata": {},
   "outputs": [],
   "source": [
    "bacon = 22"
   ]
  },
  {
   "cell_type": "code",
   "execution_count": 46,
   "id": "05c096da-0ddf-4a37-9c4a-aa6f9347768c",
   "metadata": {},
   "outputs": [
    {
     "data": {
      "text/plain": [
       "23"
      ]
     },
     "execution_count": 46,
     "metadata": {},
     "output_type": "execute_result"
    }
   ],
   "source": [
    "bacon+1"
   ]
  },
  {
   "cell_type": "code",
   "execution_count": 47,
   "id": "b9363cbe-5a5e-41fc-aa10-9b6bf2d2d2e8",
   "metadata": {},
   "outputs": [
    {
     "data": {
      "text/plain": [
       "22"
      ]
     },
     "execution_count": 47,
     "metadata": {},
     "output_type": "execute_result"
    }
   ],
   "source": [
    "bacon"
   ]
  },
  {
   "cell_type": "code",
   "execution_count": 48,
   "id": "740eda2e-e9aa-4533-a42e-6208721e9646",
   "metadata": {},
   "outputs": [],
   "source": [
    "# 7. What should the values of the following two terms be? "
   ]
  },
  {
   "cell_type": "code",
   "execution_count": 49,
   "id": "e72a7b03-ce18-45c3-9e77-70c99c23733d",
   "metadata": {},
   "outputs": [
    {
     "data": {
      "text/plain": [
       "'spamspamspam'"
      ]
     },
     "execution_count": 49,
     "metadata": {},
     "output_type": "execute_result"
    }
   ],
   "source": [
    "'spam'+'spamspam'"
   ]
  },
  {
   "cell_type": "code",
   "execution_count": 51,
   "id": "5d4ed3ff-3f81-4d9e-84af-6d8db5d58775",
   "metadata": {},
   "outputs": [
    {
     "data": {
      "text/plain": [
       "'spamspamspam'"
      ]
     },
     "execution_count": 51,
     "metadata": {},
     "output_type": "execute_result"
    }
   ],
   "source": [
    "'spam'*3"
   ]
  },
  {
   "cell_type": "code",
   "execution_count": 52,
   "id": "48c00241-1c62-4e1f-b4ba-d150c2fb4224",
   "metadata": {},
   "outputs": [],
   "source": [
    "# 8. Why is eggs a valid variable name while 100 is invalid?"
   ]
  },
  {
   "cell_type": "code",
   "execution_count": 53,
   "id": "1931af71-a20c-4f94-846d-366eb74f9339",
   "metadata": {},
   "outputs": [],
   "source": [
    "eggs=[1,2,3,4]"
   ]
  },
  {
   "cell_type": "code",
   "execution_count": 54,
   "id": "2d893d4f-9051-47ed-8211-07c969855ab7",
   "metadata": {},
   "outputs": [
    {
     "ename": "SyntaxError",
     "evalue": "cannot assign to literal (2670821081.py, line 1)",
     "output_type": "error",
     "traceback": [
      "\u001b[0;36m  Input \u001b[0;32mIn [54]\u001b[0;36m\u001b[0m\n\u001b[0;31m    100=[1,2,3,4]\u001b[0m\n\u001b[0m    ^\u001b[0m\n\u001b[0;31mSyntaxError\u001b[0m\u001b[0;31m:\u001b[0m cannot assign to literal\n"
     ]
    }
   ],
   "source": [
    "100=[1,2,3,4]"
   ]
  },
  {
   "cell_type": "code",
   "execution_count": 55,
   "id": "fc305bda-17cf-4efa-9bd7-f28d3fc83f8c",
   "metadata": {},
   "outputs": [],
   "source": [
    "# because integer cannot assin as avariable"
   ]
  },
  {
   "cell_type": "code",
   "execution_count": 56,
   "id": "97e4240c-5608-4f33-a1e7-4848fc570770",
   "metadata": {},
   "outputs": [],
   "source": [
    "# 9. What three functions can be used to get the integer, floating-point number, or string version of a value?"
   ]
  },
  {
   "cell_type": "code",
   "execution_count": 57,
   "id": "3eabe43d-4192-4c34-866d-cf0cfe279b90",
   "metadata": {},
   "outputs": [],
   "source": [
    "a=\"50\""
   ]
  },
  {
   "cell_type": "code",
   "execution_count": 58,
   "id": "b392084f-85ed-423b-9af7-0e0bcfb3bd52",
   "metadata": {},
   "outputs": [
    {
     "data": {
      "text/plain": [
       "50"
      ]
     },
     "execution_count": 58,
     "metadata": {},
     "output_type": "execute_result"
    }
   ],
   "source": [
    "int(a)"
   ]
  },
  {
   "cell_type": "code",
   "execution_count": 59,
   "id": "d278c7c7-40b7-44b3-be39-4d95795adc42",
   "metadata": {},
   "outputs": [
    {
     "data": {
      "text/plain": [
       "50.0"
      ]
     },
     "execution_count": 59,
     "metadata": {},
     "output_type": "execute_result"
    }
   ],
   "source": [
    "float(a)"
   ]
  },
  {
   "cell_type": "code",
   "execution_count": 61,
   "id": "0bd55946-6f51-48ee-aca1-7f41dcff583f",
   "metadata": {},
   "outputs": [
    {
     "data": {
      "text/plain": [
       "'50'"
      ]
     },
     "execution_count": 61,
     "metadata": {},
     "output_type": "execute_result"
    }
   ],
   "source": [
    "str(a)"
   ]
  },
  {
   "cell_type": "code",
   "execution_count": 62,
   "id": "32607926-e10c-41ee-88fc-6ff21587d81f",
   "metadata": {},
   "outputs": [],
   "source": [
    "# 10. Why does this expression cause an error? How can you fix it?"
   ]
  },
  {
   "cell_type": "code",
   "execution_count": 63,
   "id": "394413fe-77c4-4352-b455-db1b7d041617",
   "metadata": {},
   "outputs": [
    {
     "ename": "TypeError",
     "evalue": "can only concatenate str (not \"int\") to str",
     "output_type": "error",
     "traceback": [
      "\u001b[0;31m---------------------------------------------------------------------------\u001b[0m",
      "\u001b[0;31mTypeError\u001b[0m                                 Traceback (most recent call last)",
      "Input \u001b[0;32mIn [63]\u001b[0m, in \u001b[0;36m<cell line: 1>\u001b[0;34m()\u001b[0m\n\u001b[0;32m----> 1\u001b[0m \u001b[38;5;124;43m'\u001b[39;49m\u001b[38;5;124;43mi have eaten\u001b[39;49m\u001b[38;5;124;43m'\u001b[39;49m\u001b[38;5;241;43m+\u001b[39;49m\u001b[38;5;241;43m99\u001b[39;49m\u001b[38;5;241m+\u001b[39m\u001b[38;5;124m'\u001b[39m\u001b[38;5;124mburritos\u001b[39m\u001b[38;5;124m'\u001b[39m\n",
      "\u001b[0;31mTypeError\u001b[0m: can only concatenate str (not \"int\") to str"
     ]
    }
   ],
   "source": [
    "'i have eaten'+99+'burritos'"
   ]
  },
  {
   "cell_type": "code",
   "execution_count": 64,
   "id": "bcc3c071-3a15-4fbd-b5a8-b4d7da1b2d55",
   "metadata": {},
   "outputs": [],
   "source": [
    "a=99"
   ]
  },
  {
   "cell_type": "code",
   "execution_count": 65,
   "id": "a9423732-c62f-4a0e-b839-f29247306f57",
   "metadata": {},
   "outputs": [
    {
     "data": {
      "text/plain": [
       "'99'"
      ]
     },
     "execution_count": 65,
     "metadata": {},
     "output_type": "execute_result"
    }
   ],
   "source": [
    "str(a)"
   ]
  },
  {
   "cell_type": "code",
   "execution_count": 71,
   "id": "634eef4b-d726-4386-aaa1-f68c06127c71",
   "metadata": {},
   "outputs": [
    {
     "data": {
      "text/plain": [
       "'i have eaten 99 burritos'"
      ]
     },
     "execution_count": 71,
     "metadata": {},
     "output_type": "execute_result"
    }
   ],
   "source": [
    "'i have eaten '+str(a)+' burritos'"
   ]
  },
  {
   "cell_type": "code",
   "execution_count": null,
   "id": "e073bcba-79dc-475d-8a6a-52d10166ae6c",
   "metadata": {},
   "outputs": [],
   "source": []
  }
 ],
 "metadata": {
  "kernelspec": {
   "display_name": "Python 3 (ipykernel)",
   "language": "python",
   "name": "python3"
  },
  "language_info": {
   "codemirror_mode": {
    "name": "ipython",
    "version": 3
   },
   "file_extension": ".py",
   "mimetype": "text/x-python",
   "name": "python",
   "nbconvert_exporter": "python",
   "pygments_lexer": "ipython3",
   "version": "3.9.12"
  }
 },
 "nbformat": 4,
 "nbformat_minor": 5
}
