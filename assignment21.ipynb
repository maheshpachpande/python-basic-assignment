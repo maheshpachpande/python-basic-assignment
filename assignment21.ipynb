{
  "cells": [
    {
      "cell_type": "markdown",
      "id": "liberal-account",
      "metadata": {
        "id": "liberal-account"
      },
      "source": [
        " Add the current date to the text file today.txt as a string.\n",
        "\n",
        "- Answer -\n",
        "    \n",
        ">\n",
        "\n",
        "    \n"
      ]
    },
    {
      "cell_type": "code",
      "execution_count": 2,
      "id": "385311f2",
      "metadata": {
        "id": "385311f2"
      },
      "outputs": [],
      "source": [
        "from datetime import date\n",
        "now = date.today()\n",
        "now_str = now.isoformat()\n",
        "with open('mahesh.txt', 'wt') as output:\n",
        "    print(now_str, file=output)"
      ]
    },
    {
      "cell_type": "markdown",
      "id": "ba6c1dee",
      "metadata": {
        "id": "ba6c1dee"
      },
      "source": [
        "<b>------------------------------------------------------------------------------------------------------------------------------------------------------------------------------------------------------------------"
      ]
    },
    {
      "cell_type": "markdown",
      "id": "sharing-council",
      "metadata": {
        "id": "sharing-council"
      },
      "source": [
        " Read the text file today.txt into the string today_string\n",
        "\n",
        "- Answer -\n",
        "    \n",
        ">\n",
        "\n",
        "    \n"
      ]
    },
    {
      "cell_type": "code",
      "execution_count": 4,
      "id": "2dbd0a81",
      "metadata": {
        "colab": {
          "base_uri": "https://localhost:8080/",
          "height": 36
        },
        "id": "2dbd0a81",
        "outputId": "f576b639-13ae-4ba1-9ac7-3e56b515104b"
      },
      "outputs": [
        {
          "output_type": "execute_result",
          "data": {
            "text/plain": [
              "'2023-03-22\\n'"
            ],
            "application/vnd.google.colaboratory.intrinsic+json": {
              "type": "string"
            }
          },
          "metadata": {},
          "execution_count": 4
        }
      ],
      "source": [
        "with open('mahesh.txt', 'rt') as input:\n",
        "    today_string = input.read()\n",
        "    \n",
        "today_string"
      ]
    },
    {
      "cell_type": "markdown",
      "id": "20550c2b",
      "metadata": {
        "id": "20550c2b"
      },
      "source": [
        "<b>------------------------------------------------------------------------------------------------------------------------------------------------------------------------------------------------------------------"
      ]
    },
    {
      "cell_type": "markdown",
      "id": "acute-talent",
      "metadata": {
        "id": "acute-talent"
      },
      "source": [
        "Parse the date from today_string.\n",
        "\n",
        "- Answer -\n",
        "    \n",
        ">\n",
        "\n",
        "    \n"
      ]
    },
    {
      "cell_type": "code",
      "execution_count": 5,
      "id": "52c6cab3",
      "metadata": {
        "colab": {
          "base_uri": "https://localhost:8080/"
        },
        "id": "52c6cab3",
        "outputId": "3633a77f-12fe-4a1b-e9e6-0dd6b32eed25"
      },
      "outputs": [
        {
          "output_type": "execute_result",
          "data": {
            "text/plain": [
              "datetime.datetime(2023, 3, 22, 0, 0)"
            ]
          },
          "metadata": {},
          "execution_count": 5
        }
      ],
      "source": [
        "from datetime import datetime\n",
        "fmt = '%Y-%m-%d\\n'\n",
        "datetime.strptime(today_string, fmt)"
      ]
    },
    {
      "cell_type": "markdown",
      "id": "ad8fe259",
      "metadata": {
        "id": "ad8fe259"
      },
      "source": [
        "<b>------------------------------------------------------------------------------------------------------------------------------------------------------------------------------------------------------------------"
      ]
    },
    {
      "cell_type": "markdown",
      "id": "outdoor-setup",
      "metadata": {
        "id": "outdoor-setup"
      },
      "source": [
        "<b>Number 4- \n",
        "- Question -\n",
        "    \n",
        "> List the files in your current directory\n",
        "\n",
        "- Answer -\n",
        ">\n",
        "\n",
        "    \n"
      ]
    },
    {
      "cell_type": "code",
      "execution_count": 6,
      "id": "5f61e860",
      "metadata": {
        "colab": {
          "base_uri": "https://localhost:8080/"
        },
        "id": "5f61e860",
        "outputId": "cbf6716f-104e-43a0-85d6-edeaa10710a7"
      },
      "outputs": [
        {
          "output_type": "execute_result",
          "data": {
            "text/plain": [
              "['.config', 'mahesh.txt', 'today.txt', 'sample_data']"
            ]
          },
          "metadata": {},
          "execution_count": 6
        }
      ],
      "source": [
        "import os\n",
        "os.listdir('.')"
      ]
    },
    {
      "cell_type": "markdown",
      "id": "2890542c",
      "metadata": {
        "id": "2890542c"
      },
      "source": [
        "<b>------------------------------------------------------------------------------------------------------------------------------------------------------------------------------------------------------------------"
      ]
    },
    {
      "cell_type": "markdown",
      "id": "caring-viewer",
      "metadata": {
        "id": "caring-viewer"
      },
      "source": [
        "<b>Number 5 - \n",
        "- Question -\n",
        "    \n",
        "> Create a list of all of the files in your parent directory (minimum five files should be available).\n",
        "\n",
        "- Answer -\n",
        "    \n",
        ">\n",
        "\n",
        "    \n"
      ]
    },
    {
      "cell_type": "code",
      "execution_count": 7,
      "id": "d51a2327",
      "metadata": {
        "colab": {
          "base_uri": "https://localhost:8080/"
        },
        "id": "d51a2327",
        "outputId": "d2a33ea9-add4-4646-fb82-826a08f3c5a5"
      },
      "outputs": [
        {
          "output_type": "execute_result",
          "data": {
            "text/plain": [
              "['sbin',\n",
              " 'media',\n",
              " 'lib64',\n",
              " 'sys',\n",
              " 'proc',\n",
              " 'mnt',\n",
              " 'var',\n",
              " 'bin',\n",
              " 'usr',\n",
              " 'home',\n",
              " 'dev',\n",
              " 'lib32',\n",
              " 'tmp',\n",
              " 'opt',\n",
              " 'boot',\n",
              " 'run',\n",
              " 'lib',\n",
              " 'root',\n",
              " 'etc',\n",
              " 'srv',\n",
              " 'libx32',\n",
              " 'content',\n",
              " '.dockerenv',\n",
              " 'tools',\n",
              " 'datalab',\n",
              " 'python-apt',\n",
              " 'NGC-DL-CONTAINER-LICENSE']"
            ]
          },
          "metadata": {},
          "execution_count": 7
        }
      ],
      "source": [
        "os.listdir('..')"
      ]
    },
    {
      "cell_type": "markdown",
      "id": "aa496aef",
      "metadata": {
        "id": "aa496aef"
      },
      "source": [
        "<b>------------------------------------------------------------------------------------------------------------------------------------------------------------------------------------------------------------------"
      ]
    },
    {
      "cell_type": "markdown",
      "id": "complimentary-cabinet",
      "metadata": {
        "id": "complimentary-cabinet"
      },
      "source": [
        "<b>Number 6 - \n",
        "- Question -\n",
        "    \n",
        "> Use multiprocessing to create three separate processes. Make each one wait a random number of seconds between one and five, print the current time, and then exit.\n",
        "\n",
        "- Answer -\n",
        "    \n",
        ">\n",
        "\n",
        "    \n"
      ]
    },
    {
      "cell_type": "code",
      "execution_count": null,
      "id": "45070fb0",
      "metadata": {
        "id": "45070fb0",
        "outputId": "96182797-5146-4c84-82d9-fe2b931c3662"
      },
      "outputs": [
        {
          "name": "stdout",
          "output_type": "stream",
          "text": [
            "wait 0.11258240976256462 seconds, time is 2021-05-04 14:26:13.559911\n",
            "wait 0.5027238463295997 seconds, time is 2021-05-04 14:26:13.947904\n",
            "wait 0.7974100623500293 seconds, time is 2021-05-04 14:26:14.239878\n"
          ]
        }
      ],
      "source": [
        "!python multi_process.py"
      ]
    },
    {
      "cell_type": "markdown",
      "id": "64b385d7",
      "metadata": {
        "id": "64b385d7"
      },
      "source": [
        "<b>------------------------------------------------------------------------------------------------------------------------------------------------------------------------------------------------------------------"
      ]
    },
    {
      "cell_type": "markdown",
      "id": "special-graduation",
      "metadata": {
        "id": "special-graduation"
      },
      "source": [
        "<b>Number 7 - \n",
        "- Question -\n",
        "    \n",
        "> Create a date object of your day of birth.\n",
        "\n",
        "- Answer -\n",
        "    \n",
        ">\n",
        "\n",
        "    \n"
      ]
    },
    {
      "cell_type": "code",
      "execution_count": null,
      "id": "d013f197",
      "metadata": {
        "id": "d013f197",
        "outputId": "cae3fcf9-4fc8-4244-db65-41f5f2ee6883"
      },
      "outputs": [
        {
          "data": {
            "text/plain": [
              "datetime.date(1996, 8, 10)"
            ]
          },
          "execution_count": 18,
          "metadata": {},
          "output_type": "execute_result"
        }
      ],
      "source": [
        "my_day = date(1996, 8, 10)\n",
        "my_day"
      ]
    },
    {
      "cell_type": "markdown",
      "id": "3a221f78",
      "metadata": {
        "id": "3a221f78"
      },
      "source": [
        "<b>------------------------------------------------------------------------------------------------------------------------------------------------------------------------------------------------------------------"
      ]
    },
    {
      "cell_type": "markdown",
      "id": "conscious-adult",
      "metadata": {
        "id": "conscious-adult"
      },
      "source": [
        "<b>Number 8 - \n",
        "- Question -\n",
        "    \n",
        "> What day of the week was your day of birth?\n",
        "\n",
        "- Answer -\n",
        "    \n",
        "> With weekday(), Monday is 0 and Sunday is 6. With isoweekday(), Monday is 1 and\n",
        "Sunday is 7. Therefore, this date is a Saturday.\n",
        "\n",
        "    \n"
      ]
    },
    {
      "cell_type": "code",
      "execution_count": null,
      "id": "128027e4",
      "metadata": {
        "id": "128027e4",
        "outputId": "d8cc9723-e130-4042-b702-598b9b1aee46"
      },
      "outputs": [
        {
          "data": {
            "text/plain": [
              "5"
            ]
          },
          "execution_count": 19,
          "metadata": {},
          "output_type": "execute_result"
        }
      ],
      "source": [
        "my_day.weekday()"
      ]
    },
    {
      "cell_type": "code",
      "execution_count": null,
      "id": "7c73532a",
      "metadata": {
        "id": "7c73532a",
        "outputId": "05923d3b-6705-4897-de86-ee9e6efde8db"
      },
      "outputs": [
        {
          "data": {
            "text/plain": [
              "6"
            ]
          },
          "execution_count": 20,
          "metadata": {},
          "output_type": "execute_result"
        }
      ],
      "source": [
        "my_day.isoweekday()"
      ]
    },
    {
      "cell_type": "markdown",
      "id": "2080a006",
      "metadata": {
        "id": "2080a006"
      },
      "source": [
        "<b>------------------------------------------------------------------------------------------------------------------------------------------------------------------------------------------------------------------"
      ]
    },
    {
      "cell_type": "markdown",
      "id": "dynamic-madison",
      "metadata": {
        "id": "dynamic-madison"
      },
      "source": [
        "<b>Number 9 - \n",
        "- Question -\n",
        "    \n",
        "> When will you be (or when were you) 10,000 days old?\n",
        "\n",
        "- Answer -\n",
        "    \n",
        ">\n",
        "\n",
        "    \n"
      ]
    },
    {
      "cell_type": "code",
      "execution_count": null,
      "id": "e1736c7a",
      "metadata": {
        "id": "e1736c7a",
        "outputId": "c5ba1733-ad5a-426d-d8ee-d02cbb058109"
      },
      "outputs": [
        {
          "data": {
            "text/plain": [
              "datetime.date(2023, 12, 27)"
            ]
          },
          "execution_count": 21,
          "metadata": {},
          "output_type": "execute_result"
        }
      ],
      "source": [
        "from datetime import timedelta\n",
        "ten_thousand = my_day + timedelta(days=10000)\n",
        "ten_thousand"
      ]
    },
    {
      "cell_type": "markdown",
      "id": "2e644515",
      "metadata": {
        "id": "2e644515"
      },
      "source": [
        "<b>------------------------------------------------------------------------------------------------------------------------------------------------------------------------------------------------------------------"
      ]
    }
  ],
  "metadata": {
    "kernelspec": {
      "display_name": "Python 3",
      "language": "python",
      "name": "python3"
    },
    "language_info": {
      "codemirror_mode": {
        "name": "ipython",
        "version": 3
      },
      "file_extension": ".py",
      "mimetype": "text/x-python",
      "name": "python",
      "nbconvert_exporter": "python",
      "pygments_lexer": "ipython3",
      "version": "3.8.8"
    },
    "toc": {
      "base_numbering": 1,
      "nav_menu": {},
      "number_sections": true,
      "sideBar": true,
      "skip_h1_title": false,
      "title_cell": "Table of Contents",
      "title_sidebar": "Contents",
      "toc_cell": false,
      "toc_position": {},
      "toc_section_display": true,
      "toc_window_display": false
    },
    "colab": {
      "provenance": []
    }
  },
  "nbformat": 4,
  "nbformat_minor": 5
}