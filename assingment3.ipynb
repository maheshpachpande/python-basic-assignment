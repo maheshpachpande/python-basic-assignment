{
  "nbformat": 4,
  "nbformat_minor": 0,
  "metadata": {
    "colab": {
      "provenance": []
    },
    "kernelspec": {
      "name": "python3",
      "display_name": "Python 3"
    },
    "language_info": {
      "name": "python"
    }
  },
  "cells": [
    {
      "cell_type": "code",
      "execution_count": 1,
      "metadata": {
        "id": "fLBOsgOuCZiA"
      },
      "outputs": [],
      "source": [
        "# 1. Why are functions advantageous to have in your programs?"
      ]
    },
    {
      "cell_type": "code",
      "source": [
        "# Functions reduce the need for duplicate code. This makes programs shorter, easier to read, and easier to update"
      ],
      "metadata": {
        "id": "j9ze82JjCk4C"
      },
      "execution_count": 2,
      "outputs": []
    },
    {
      "cell_type": "code",
      "source": [
        "# 2. When does the code in a function run: when  specified or when called?"
      ],
      "metadata": {
        "id": "DnuWCvNkC7gk"
      },
      "execution_count": 3,
      "outputs": []
    },
    {
      "cell_type": "code",
      "source": [
        "# The code in a function executes when the function is called, not when the function is defined"
      ],
      "metadata": {
        "id": "_43cd0lNDQne"
      },
      "execution_count": 4,
      "outputs": []
    },
    {
      "cell_type": "code",
      "source": [
        "# 3. What statement creates a function?"
      ],
      "metadata": {
        "id": "psqGURfJDbNJ"
      },
      "execution_count": 5,
      "outputs": []
    },
    {
      "cell_type": "code",
      "source": [
        "#The def statement defines, i.e. creates a function."
      ],
      "metadata": {
        "id": "aIjxIXIqDck5"
      },
      "execution_count": 6,
      "outputs": []
    },
    {
      "cell_type": "code",
      "source": [
        "# 4. What is the difference between a function and a function call?"
      ],
      "metadata": {
        "id": "uITUhRnMDh0F"
      },
      "execution_count": 7,
      "outputs": []
    },
    {
      "cell_type": "code",
      "source": [
        "# A function consists of the def statement and the code in its def clause. A function call is what moves the program execution into the function, and the function call evaluates to the function's return value."
      ],
      "metadata": {
        "id": "mWLNabpzDmXa"
      },
      "execution_count": 8,
      "outputs": []
    },
    {
      "cell_type": "code",
      "source": [
        "# 5. How many global scopes are there in a Python program? How many local scopes?"
      ],
      "metadata": {
        "id": "UjWdJKWNDvYa"
      },
      "execution_count": 9,
      "outputs": []
    },
    {
      "cell_type": "code",
      "source": [
        "#There is one global scope, and a local scope is created whenever a function is called."
      ],
      "metadata": {
        "id": "09g7sRAED8QZ"
      },
      "execution_count": 10,
      "outputs": []
    },
    {
      "cell_type": "code",
      "source": [
        "# 6. What happens to variables in a local scope when the function call returns?"
      ],
      "metadata": {
        "id": "Lwmi7ZArEFMV"
      },
      "execution_count": 11,
      "outputs": []
    },
    {
      "cell_type": "code",
      "source": [
        "# When a function returns, the local scope is destroyed, and all the variables in it are forgotten"
      ],
      "metadata": {
        "id": "pjEh9ASwEKQO"
      },
      "execution_count": 12,
      "outputs": []
    },
    {
      "cell_type": "code",
      "source": [
        "# 7. What is the concept of a return value? Is it possible to have a return value in an expression?"
      ],
      "metadata": {
        "id": "7WYSMb5KEN7Z"
      },
      "execution_count": 13,
      "outputs": []
    },
    {
      "cell_type": "code",
      "source": [
        "# A return value is the value that a function call evaluates to. Like any value, a return value can be used as part of an expression"
      ],
      "metadata": {
        "id": "AFKKnSKcEWHA"
      },
      "execution_count": 14,
      "outputs": []
    },
    {
      "cell_type": "code",
      "source": [
        "# 8. If a function does not have a return statement, what is the return value of a call to that function?"
      ],
      "metadata": {
        "id": "YqhMUFLQEc67"
      },
      "execution_count": 15,
      "outputs": []
    },
    {
      "cell_type": "code",
      "source": [
        "# If there is no return statement for a function, its return value is None."
      ],
      "metadata": {
        "id": "9D7syqDlEilu"
      },
      "execution_count": 16,
      "outputs": []
    },
    {
      "cell_type": "code",
      "source": [
        "# 9. How do you make a function variable refer to the global variable"
      ],
      "metadata": {
        "id": "DjTt5xe4EmBX"
      },
      "execution_count": 17,
      "outputs": []
    },
    {
      "cell_type": "code",
      "source": [
        "# How do you make a function variable refer to the global variable"
      ],
      "metadata": {
        "id": "zuQUmymtEsJp"
      },
      "execution_count": 18,
      "outputs": []
    },
    {
      "cell_type": "code",
      "source": [
        "# 10. What is the data type of None?"
      ],
      "metadata": {
        "id": "1olM3Z3aEyCt"
      },
      "execution_count": 19,
      "outputs": []
    },
    {
      "cell_type": "code",
      "source": [
        "# The data type of None is NoneType"
      ],
      "metadata": {
        "id": "pquXZph_E2DH"
      },
      "execution_count": 20,
      "outputs": []
    },
    {
      "cell_type": "code",
      "source": [
        "# 11. What does the sentence import areallyourpetsnamederic do?"
      ],
      "metadata": {
        "id": "D2uYIEZyE6aC"
      },
      "execution_count": 21,
      "outputs": []
    },
    {
      "cell_type": "code",
      "source": [
        "# That import statement imports a module named areallyourpetsnamederic"
      ],
      "metadata": {
        "id": "ZSgt7Yz8E_0n"
      },
      "execution_count": 22,
      "outputs": []
    },
    {
      "cell_type": "code",
      "source": [
        "# 12. If you had a bacon() feature in a spam module, what would you call it after importing spam?"
      ],
      "metadata": {
        "id": "BOZ7f9NVFVHi"
      },
      "execution_count": 23,
      "outputs": []
    },
    {
      "cell_type": "code",
      "source": [
        "# This function can be called with spam.bacon()"
      ],
      "metadata": {
        "id": "HhdSHCBtFls4"
      },
      "execution_count": 24,
      "outputs": []
    },
    {
      "cell_type": "code",
      "source": [
        "# 13. What can you do to save a programme from crashing if it encounters an error?"
      ],
      "metadata": {
        "id": "1xg9D30WFpk6"
      },
      "execution_count": 25,
      "outputs": []
    },
    {
      "cell_type": "code",
      "source": [
        "# Place the line of code that might cause an error in a try clause."
      ],
      "metadata": {
        "id": "ZCQi66jhFzAT"
      },
      "execution_count": 26,
      "outputs": []
    },
    {
      "cell_type": "code",
      "source": [
        "# 14. What is the purpose of the try clause? What is the purpose of the except clause?"
      ],
      "metadata": {
        "id": "FZ5UtbFhF25A"
      },
      "execution_count": 27,
      "outputs": []
    },
    {
      "cell_type": "code",
      "source": [
        "# The code that could potentially cause an error goes in the try clause.\n",
        "# The code that executes if an error happens goes in the except clause."
      ],
      "metadata": {
        "id": "fQAcNocoF7oW"
      },
      "execution_count": null,
      "outputs": []
    }
  ]
}