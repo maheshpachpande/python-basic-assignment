{
  "nbformat": 4,
  "nbformat_minor": 0,
  "metadata": {
    "colab": {
      "provenance": []
    },
    "kernelspec": {
      "name": "python3",
      "display_name": "Python 3"
    },
    "language_info": {
      "name": "python"
    }
  },
  "cells": [
    {
      "cell_type": "code",
      "execution_count": null,
      "metadata": {
        "id": "YEypxVJVy_oI"
      },
      "outputs": [],
      "source": [
        "#What advantages do Excel spreadsheets have over CSV spreadsheets?\n",
        "\n",
        "#Answer -In Excel, spreadsheets can have values of datatypes other than strings; cells can have different fonts, sizes, or color settings; cells can have varying widths and heights; adjecent cells can be merged; and we can embed images and charts."
      ]
    },
    {
      "cell_type": "code",
      "source": [
        "#What do you pass to csv.reader() and csv.writer() to create reader and writer objects?\n",
        "\n",
        "#Answer -We pass a file object, obtained from call to open()."
      ],
      "metadata": {
        "id": "XEAeXUaTzI0a"
      },
      "execution_count": null,
      "outputs": []
    },
    {
      "cell_type": "code",
      "source": [
        "#What modes do File objects for reader and writer objects need to be opened in?\n",
        "\n",
        "#Answer -File objects need to be opened in read-binary ('rb') for reader objects and write-binary ('wb') fro writer objects."
      ],
      "metadata": {
        "id": "8n-s6pnbzNwu"
      },
      "execution_count": null,
      "outputs": []
    },
    {
      "cell_type": "code",
      "source": [
        "#What method takes a list argument and writes it to a CSV file?\n",
        "\n",
        "#Answer -The writerrow() method."
      ],
      "metadata": {
        "id": "vEQ8ZSRtzSjm"
      },
      "execution_count": null,
      "outputs": []
    },
    {
      "cell_type": "code",
      "source": [
        "#What do the keyword arguments delimiter and line terminator do?\n",
        "\n",
        "#Answer -The delimeter argument change the string used to separate cells in a row. The lineterminator argument changes the string used to separate rows."
      ],
      "metadata": {
        "id": "3haT3RFgzXdR"
      },
      "execution_count": null,
      "outputs": []
    },
    {
      "cell_type": "code",
      "source": [
        "#What function takes a string of JSON data and returns a Python data structure?\n",
        "\n",
        "#Answer -json.loads()"
      ],
      "metadata": {
        "id": "8SCfuZuEzdw3"
      },
      "execution_count": null,
      "outputs": []
    },
    {
      "cell_type": "code",
      "source": [
        "#What function takes a Python data structure and returns a string of JSON data?\n",
        "\n",
        "#Answer -json.dumps()"
      ],
      "metadata": {
        "id": "V79-O5vlzh0G"
      },
      "execution_count": null,
      "outputs": []
    },
    {
      "cell_type": "code",
      "source": [],
      "metadata": {
        "id": "RIDWp5AfznB-"
      },
      "execution_count": null,
      "outputs": []
    }
  ]
}