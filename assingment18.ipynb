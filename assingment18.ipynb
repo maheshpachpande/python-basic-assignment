{
  "cells": [
    {
      "cell_type": "markdown",
      "id": "liberal-account",
      "metadata": {
        "id": "liberal-account"
      },
      "source": [
        "<b>Number 1 - \n",
        "- Question -\n",
        "> Create a zoo.py file first. Define the hours() function, which prints the string 'Open 9-5 daily'. Then, use the interactive interpreter to import the zoo module and call its hours() function.\n",
        "\n",
        "- Answer -\n",
        ">\n",
        "\n",
        "    \n"
      ]
    },
    {
      "cell_type": "code",
      "execution_count": null,
      "id": "d52777ec",
      "metadata": {
        "id": "d52777ec",
        "outputId": "3f1c94c3-0186-4dfd-d139-91ed1a47df43"
      },
      "outputs": [
        {
          "name": "stdout",
          "output_type": "stream",
          "text": [
            "Open 9-5 daily\n"
          ]
        }
      ],
      "source": [
        "import zoo\n",
        "zoo.hours()"
      ]
    },
    {
      "cell_type": "markdown",
      "id": "003d5e36",
      "metadata": {
        "id": "003d5e36"
      },
      "source": [
        "<b>------------------------------------------------------------------------------------------------------------------------------------------------------------------------------------------------------------------"
      ]
    },
    {
      "cell_type": "markdown",
      "id": "sharing-council",
      "metadata": {
        "id": "sharing-council"
      },
      "source": [
        "<b>Number 2 - \n",
        "- Question -\n",
        "> In the interactive interpreter, import the zoo module as menagerie and call its hours() function.\n",
        "\n",
        "- Answer -\n",
        ">\n",
        "\n",
        "    \n"
      ]
    },
    {
      "cell_type": "code",
      "execution_count": null,
      "id": "d74569c2",
      "metadata": {
        "id": "d74569c2",
        "outputId": "7a59a70f-a634-4e3a-ac9c-bf4352728efc"
      },
      "outputs": [
        {
          "name": "stdout",
          "output_type": "stream",
          "text": [
            "Open 9-5 daily\n"
          ]
        }
      ],
      "source": [
        "import zoo as menagerie\n",
        "menagerie.hours()"
      ]
    },
    {
      "cell_type": "markdown",
      "id": "ac441e48",
      "metadata": {
        "id": "ac441e48"
      },
      "source": [
        "<b>------------------------------------------------------------------------------------------------------------------------------------------------------------------------------------------------------------------"
      ]
    },
    {
      "cell_type": "markdown",
      "id": "acute-talent",
      "metadata": {
        "id": "acute-talent"
      },
      "source": [
        "<b>Number 3 - \n",
        "- Question -\n",
        "> Using the interpreter, explicitly import and call the hours() function from zoo.\n",
        "\n",
        "- Answer -\n",
        ">\n",
        "\n",
        "    \n"
      ]
    },
    {
      "cell_type": "code",
      "execution_count": null,
      "id": "7e1241bb",
      "metadata": {
        "id": "7e1241bb",
        "outputId": "f7105c13-158e-49a9-ab1f-04a5de65bb43"
      },
      "outputs": [
        {
          "name": "stdout",
          "output_type": "stream",
          "text": [
            "Open 9-5 daily\n"
          ]
        }
      ],
      "source": [
        "from zoo import hours\n",
        "hours()"
      ]
    },
    {
      "cell_type": "markdown",
      "id": "7342d64b",
      "metadata": {
        "id": "7342d64b"
      },
      "source": [
        "<b>------------------------------------------------------------------------------------------------------------------------------------------------------------------------------------------------------------------"
      ]
    },
    {
      "cell_type": "markdown",
      "id": "outdoor-setup",
      "metadata": {
        "id": "outdoor-setup"
      },
      "source": [
        "<b>Number 4\n",
        "    - \n",
        "- Question -\n",
        "> Import the hours() function as info and call it.\n",
        "\n",
        "- Answer -\n",
        ">\n",
        "\n",
        "    \n"
      ]
    },
    {
      "cell_type": "code",
      "execution_count": null,
      "id": "7af7f41a",
      "metadata": {
        "id": "7af7f41a",
        "outputId": "d5eae9c1-c2d8-486e-f8de-7a77a9ba70e7"
      },
      "outputs": [
        {
          "name": "stdout",
          "output_type": "stream",
          "text": [
            "Open 9-5 daily\n"
          ]
        }
      ],
      "source": [
        "from zoo import hours as info\n",
        "info()"
      ]
    },
    {
      "cell_type": "markdown",
      "id": "64ca8c2c",
      "metadata": {
        "id": "64ca8c2c"
      },
      "source": [
        "<b>------------------------------------------------------------------------------------------------------------------------------------------------------------------------------------------------------------------"
      ]
    },
    {
      "cell_type": "markdown",
      "id": "caring-viewer",
      "metadata": {
        "id": "caring-viewer"
      },
      "source": [
        "<b>Number 5 - \n",
        "- Question -\n",
        "> Create a plain dictionary with the key-value pairs 'a': 1, 'b': 2, and 'c': 3, and print it out.\n",
        "\n",
        "- Answer -\n",
        ">\n",
        "\n",
        "    \n"
      ]
    },
    {
      "cell_type": "code",
      "execution_count": null,
      "id": "9c4e8b0a",
      "metadata": {
        "id": "9c4e8b0a",
        "outputId": "6dc433a7-987e-4f5b-f4f3-d485a9316808"
      },
      "outputs": [
        {
          "data": {
            "text/plain": [
              "{'a': 1, 'b': 2, 'c': 3}"
            ]
          },
          "execution_count": 5,
          "metadata": {},
          "output_type": "execute_result"
        }
      ],
      "source": [
        "plain_dict = {'a': 1, 'b': 2, 'c': 3}\n",
        "plain_dict"
      ]
    },
    {
      "cell_type": "markdown",
      "id": "40a7c2b4",
      "metadata": {
        "id": "40a7c2b4"
      },
      "source": [
        "<b>------------------------------------------------------------------------------------------------------------------------------------------------------------------------------------------------------------------"
      ]
    },
    {
      "cell_type": "markdown",
      "id": "complimentary-cabinet",
      "metadata": {
        "id": "complimentary-cabinet"
      },
      "source": [
        "<b>Number 6 - \n",
        "- Question -\n",
        "> Make an OrderedDict called fancy from the same pairs listed in 5 and print it. Did it print in the same order as plain?\n",
        "\n",
        "- Answer -\n",
        ">\n",
        "\n",
        "    \n"
      ]
    },
    {
      "cell_type": "code",
      "execution_count": null,
      "id": "b1825096",
      "metadata": {
        "id": "b1825096",
        "outputId": "65845581-820d-4b65-a6cd-f4da61c26840"
      },
      "outputs": [
        {
          "data": {
            "text/plain": [
              "OrderedDict([('a', 1), ('b', 2), ('c', 3)])"
            ]
          },
          "execution_count": 6,
          "metadata": {},
          "output_type": "execute_result"
        }
      ],
      "source": [
        "from collections import OrderedDict\n",
        "fancy = OrderedDict([('a', 1), ('b', 2), ('c', 3)])\n",
        "fancy"
      ]
    },
    {
      "cell_type": "markdown",
      "id": "6ebec8d1",
      "metadata": {
        "id": "6ebec8d1"
      },
      "source": [
        "<b>------------------------------------------------------------------------------------------------------------------------------------------------------------------------------------------------------------------"
      ]
    },
    {
      "cell_type": "markdown",
      "id": "special-graduation",
      "metadata": {
        "id": "special-graduation"
      },
      "source": [
        "<b>Number 7 - \n",
        "- Question -\n",
        "> Make a default dictionary called dict_of_lists and pass it the argument list. Make the list dict_of_lists['a'] and append the value 'something for a' to it in one assignment. Print dict_of_lists['a'].\n",
        "\n",
        "- Answer -\n",
        ">\n",
        "\n",
        "    \n",
        "<b>------------------------------------------------------------------------------------------------------------------------------------------------------------------------------------------------------------------"
      ]
    },
    {
      "cell_type": "code",
      "execution_count": null,
      "id": "0876b92c",
      "metadata": {
        "id": "0876b92c",
        "outputId": "2337e7bf-a5c2-4836-89c5-05a2e7f72459"
      },
      "outputs": [
        {
          "data": {
            "text/plain": [
              "['something for a']"
            ]
          },
          "execution_count": 7,
          "metadata": {},
          "output_type": "execute_result"
        }
      ],
      "source": [
        "from collections import defaultdict\n",
        "dict_of_lists = defaultdict(list)\n",
        "dict_of_lists['a'].append('something for a')\n",
        "dict_of_lists['a']"
      ]
    },
    {
      "cell_type": "markdown",
      "id": "03d16217",
      "metadata": {
        "id": "03d16217"
      },
      "source": [
        "<b>------------------------------------------------------------------------------------------------------------------------------------------------------------------------------------------------------------------"
      ]
    }
  ],
  "metadata": {
    "kernelspec": {
      "display_name": "Python 3",
      "language": "python",
      "name": "python3"
    },
    "language_info": {
      "codemirror_mode": {
        "name": "ipython",
        "version": 3
      },
      "file_extension": ".py",
      "mimetype": "text/x-python",
      "name": "python",
      "nbconvert_exporter": "python",
      "pygments_lexer": "ipython3",
      "version": "3.8.8"
    },
    "toc": {
      "base_numbering": 1,
      "nav_menu": {},
      "number_sections": true,
      "sideBar": true,
      "skip_h1_title": false,
      "title_cell": "Table of Contents",
      "title_sidebar": "Contents",
      "toc_cell": false,
      "toc_position": {},
      "toc_section_display": true,
      "toc_window_display": false
    },
    "colab": {
      "provenance": []
    }
  },
  "nbformat": 4,
  "nbformat_minor": 5
}