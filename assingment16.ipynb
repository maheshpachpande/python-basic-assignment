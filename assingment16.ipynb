{
  "cells": [
    {
      "cell_type": "markdown",
      "id": "liberal-account",
      "metadata": {
        "id": "liberal-account"
      },
      "source": [
        "<b>Number 1 - \n",
        "- Question -\n",
        "> Create a list called years_list, starting with the year of your birth, and each year thereafter until the year of your fifth birthday. For example, if you were born in 1980. the list would be years_list = [1980, 1981, 1982, 1983, 1984, 1985].\n",
        "\n",
        "- Answer -\n",
        ">\n",
        "\n",
        "    \n"
      ]
    },
    {
      "cell_type": "code",
      "execution_count": null,
      "id": "92133134",
      "metadata": {
        "id": "92133134"
      },
      "outputs": [],
      "source": [
        "years_list = [1996,1997,1998,1999,2000,2001]"
      ]
    },
    {
      "cell_type": "markdown",
      "id": "cfcf777d",
      "metadata": {
        "id": "cfcf777d"
      },
      "source": [
        "<b>------------------------------------------------------------------------------------------------------------------------------------------------------------------------------------------------------------------"
      ]
    },
    {
      "cell_type": "markdown",
      "id": "sharing-council",
      "metadata": {
        "id": "sharing-council"
      },
      "source": [
        "<b>Number 2 - \n",
        "- Question -\n",
        "> In which year in years_list was your third birthday? Remember, you were 0 years of age for your first year.\n",
        "\n",
        "- Answer -\n",
        "> \n",
        "\n",
        "    \n"
      ]
    },
    {
      "cell_type": "code",
      "execution_count": null,
      "id": "b0b32b0e",
      "metadata": {
        "id": "b0b32b0e",
        "outputId": "deb6a136-52aa-4bb1-9285-b268310a6d02"
      },
      "outputs": [
        {
          "data": {
            "text/plain": [
              "1998"
            ]
          },
          "execution_count": 3,
          "metadata": {},
          "output_type": "execute_result"
        }
      ],
      "source": [
        "years_list[2]"
      ]
    },
    {
      "cell_type": "markdown",
      "id": "0120ea1a",
      "metadata": {
        "id": "0120ea1a"
      },
      "source": [
        "<b>------------------------------------------------------------------------------------------------------------------------------------------------------------------------------------------------------------------"
      ]
    },
    {
      "cell_type": "markdown",
      "id": "acute-talent",
      "metadata": {
        "id": "acute-talent"
      },
      "source": [
        "<b>Number 3 - \n",
        "- Question -\n",
        "> In the years list, which year were you the oldest?\n",
        "\n",
        "- Answer -\n",
        ">\n",
        "\n"
      ]
    },
    {
      "cell_type": "code",
      "execution_count": null,
      "id": "d2b8aba8",
      "metadata": {
        "id": "d2b8aba8",
        "outputId": "ddc50dc5-4b07-4233-b499-e8adad386417"
      },
      "outputs": [
        {
          "data": {
            "text/plain": [
              "2001"
            ]
          },
          "execution_count": 4,
          "metadata": {},
          "output_type": "execute_result"
        }
      ],
      "source": [
        "years_list[-1]"
      ]
    },
    {
      "cell_type": "markdown",
      "id": "34b9d028",
      "metadata": {
        "id": "34b9d028"
      },
      "source": [
        "    \n",
        "<b>------------------------------------------------------------------------------------------------------------------------------------------------------------------------------------------------------------------"
      ]
    },
    {
      "cell_type": "markdown",
      "id": "outdoor-setup",
      "metadata": {
        "id": "outdoor-setup"
      },
      "source": [
        "<b>Number 4\n",
        "    - \n",
        "- Question -\n",
        "> Make a list called things with these three strings as elements: \"mozzarella\", \"cinderella\", \"salmonella\".\n",
        "\n",
        "- Answer -\n",
        ">\n",
        "\n",
        "    \n"
      ]
    },
    {
      "cell_type": "code",
      "execution_count": null,
      "id": "a33757b5",
      "metadata": {
        "id": "a33757b5",
        "outputId": "907565f4-6b47-4049-e0a0-5a8e2b4f6106"
      },
      "outputs": [
        {
          "data": {
            "text/plain": [
              "['mozzarella', 'cinderella', 'salmonella']"
            ]
          },
          "execution_count": 7,
          "metadata": {},
          "output_type": "execute_result"
        }
      ],
      "source": [
        "things = ['mozzarella','cinderella','salmonella']\n",
        "things"
      ]
    },
    {
      "cell_type": "markdown",
      "id": "e043d359",
      "metadata": {
        "id": "e043d359"
      },
      "source": [
        "<b>------------------------------------------------------------------------------------------------------------------------------------------------------------------------------------------------------------------"
      ]
    },
    {
      "cell_type": "markdown",
      "id": "caring-viewer",
      "metadata": {
        "id": "caring-viewer"
      },
      "source": [
        "<b>Number 5 - \n",
        "- Question -\n",
        "> Capitalize the element in things that refers to a person and then print the list. Did it change the element in the list?\n",
        "\n",
        "- Answer -\n",
        "> This capitalizes the word, but doesn’t change it in the list:\n",
        "\n",
        "    \n"
      ]
    },
    {
      "cell_type": "code",
      "execution_count": null,
      "id": "8a9e8b57",
      "metadata": {
        "id": "8a9e8b57",
        "outputId": "4c054f4f-4639-44f8-9537-f735369105d4"
      },
      "outputs": [
        {
          "data": {
            "text/plain": [
              "'Cinderella'"
            ]
          },
          "execution_count": 13,
          "metadata": {},
          "output_type": "execute_result"
        }
      ],
      "source": [
        "things_cap = things.copy()\n",
        "things_cap[1].capitalize()\n"
      ]
    },
    {
      "cell_type": "code",
      "execution_count": null,
      "id": "40c96dbf",
      "metadata": {
        "id": "40c96dbf",
        "outputId": "67dd1f57-066e-45b2-feb5-baffbdf25ec9"
      },
      "outputs": [
        {
          "data": {
            "text/plain": [
              "['mozzarella', 'cinderella', 'salmonella']"
            ]
          },
          "execution_count": 14,
          "metadata": {},
          "output_type": "execute_result"
        }
      ],
      "source": [
        "things_cap"
      ]
    },
    {
      "cell_type": "markdown",
      "id": "bb1c892e",
      "metadata": {
        "id": "bb1c892e"
      },
      "source": [
        "<b>------------------------------------------------------------------------------------------------------------------------------------------------------------------------------------------------------------------"
      ]
    },
    {
      "cell_type": "markdown",
      "id": "complimentary-cabinet",
      "metadata": {
        "id": "complimentary-cabinet"
      },
      "source": [
        "<b>Number 6 - \n",
        "- Question -\n",
        "> Make a surprise list with the elements \"Groucho,\" \"Chico,\" and \"Harpo.\"\n",
        "\n",
        "- Answer -\n",
        ">\n",
        "\n",
        "    \n"
      ]
    },
    {
      "cell_type": "code",
      "execution_count": null,
      "id": "3e037d25",
      "metadata": {
        "id": "3e037d25",
        "outputId": "f6b56a89-0097-42ac-9674-e558571fb036"
      },
      "outputs": [
        {
          "data": {
            "text/plain": [
              "['Groucho', 'Chico', 'Harpo']"
            ]
          },
          "execution_count": 15,
          "metadata": {},
          "output_type": "execute_result"
        }
      ],
      "source": [
        "surprise = ['Groucho', 'Chico', 'Harpo']\n",
        "surprise"
      ]
    },
    {
      "cell_type": "markdown",
      "id": "0d441dbc",
      "metadata": {
        "id": "0d441dbc"
      },
      "source": [
        "<b>------------------------------------------------------------------------------------------------------------------------------------------------------------------------------------------------------------------"
      ]
    },
    {
      "cell_type": "markdown",
      "id": "special-graduation",
      "metadata": {
        "id": "special-graduation"
      },
      "source": [
        "<b>Number 7 - \n",
        "- Question -\n",
        "> Lowercase the last element of the surprise list, reverse it, and then capitalize it\n",
        "\n",
        "- Answer -\n",
        ">\n",
        "\n",
        "    \n"
      ]
    },
    {
      "cell_type": "code",
      "execution_count": null,
      "id": "790d340b",
      "metadata": {
        "id": "790d340b",
        "outputId": "ec8a1e33-0cab-4973-9573-81ccf920ad7e"
      },
      "outputs": [
        {
          "data": {
            "text/plain": [
              "'Oprah'"
            ]
          },
          "execution_count": 16,
          "metadata": {},
          "output_type": "execute_result"
        }
      ],
      "source": [
        "surprise[-1] = surprise[-1].lower()\n",
        "surprise[-1] = surprise[-1][::-1]\n",
        "surprise[-1].capitalize()"
      ]
    },
    {
      "cell_type": "markdown",
      "id": "c93e6f99",
      "metadata": {
        "id": "c93e6f99"
      },
      "source": [
        "<b>------------------------------------------------------------------------------------------------------------------------------------------------------------------------------------------------------------------"
      ]
    },
    {
      "cell_type": "markdown",
      "id": "conscious-adult",
      "metadata": {
        "id": "conscious-adult"
      },
      "source": [
        "<b>Number 8 - \n",
        "- Question -\n",
        "> Make an English-to-French dictionary called e2f and print it. Here are your starter words: dog is chien, cat is chat, and walrus is morse.\n",
        "\n",
        "- Answer -\n",
        ">\n",
        "\n",
        "    \n"
      ]
    },
    {
      "cell_type": "code",
      "execution_count": null,
      "id": "77506ef8",
      "metadata": {
        "id": "77506ef8",
        "outputId": "56f84a66-3e64-4ebb-ea47-b029f32b8a25"
      },
      "outputs": [
        {
          "data": {
            "text/plain": [
              "{'dog': 'chien', 'cat': 'chat', 'walrus': 'morse'}"
            ]
          },
          "execution_count": 17,
          "metadata": {},
          "output_type": "execute_result"
        }
      ],
      "source": [
        "e2f = {'dog': 'chien', 'cat': 'chat', 'walrus': 'morse'}\n",
        "e2f"
      ]
    },
    {
      "cell_type": "markdown",
      "id": "87292d14",
      "metadata": {
        "id": "87292d14"
      },
      "source": [
        "<b>------------------------------------------------------------------------------------------------------------------------------------------------------------------------------------------------------------------"
      ]
    },
    {
      "cell_type": "markdown",
      "id": "dynamic-madison",
      "metadata": {
        "id": "dynamic-madison"
      },
      "source": [
        "<b>Number 9 - \n",
        "- Question -\n",
        "> Write the French word for walrus in your three-word dictionary e2f.\n",
        "\n",
        "- Answer -\n",
        ">\n",
        "\n",
        "    \n"
      ]
    },
    {
      "cell_type": "code",
      "execution_count": null,
      "id": "e215b5f3",
      "metadata": {
        "id": "e215b5f3",
        "outputId": "61ae74fe-7c19-441d-c838-d17ee098a33d"
      },
      "outputs": [
        {
          "data": {
            "text/plain": [
              "'morse'"
            ]
          },
          "execution_count": 18,
          "metadata": {},
          "output_type": "execute_result"
        }
      ],
      "source": [
        "e2f['walrus']"
      ]
    },
    {
      "cell_type": "markdown",
      "id": "1c06d6fe",
      "metadata": {
        "id": "1c06d6fe"
      },
      "source": [
        "<b>------------------------------------------------------------------------------------------------------------------------------------------------------------------------------------------------------------------"
      ]
    },
    {
      "cell_type": "markdown",
      "id": "continuing-drama",
      "metadata": {
        "id": "continuing-drama"
      },
      "source": [
        "<b>Number 10 - \n",
        "- Question -\n",
        "> Make a French-to-English dictionary called f2e from e2f. Use the items method.\n",
        "\n",
        "- Answer -\n",
        ">\n",
        "\n",
        "    \n"
      ]
    },
    {
      "cell_type": "code",
      "execution_count": null,
      "id": "f57f68a6",
      "metadata": {
        "id": "f57f68a6",
        "outputId": "563690eb-661c-47b8-9dfa-94388de6b10f"
      },
      "outputs": [
        {
          "data": {
            "text/plain": [
              "{'chien': 'dog', 'chat': 'cat', 'morse': 'walrus'}"
            ]
          },
          "execution_count": 19,
          "metadata": {},
          "output_type": "execute_result"
        }
      ],
      "source": [
        "f2e = {}\n",
        "for english, french in e2f.items():\n",
        " f2e[french] = english\n",
        "f2e"
      ]
    },
    {
      "cell_type": "markdown",
      "id": "de6c19b0",
      "metadata": {
        "id": "de6c19b0"
      },
      "source": [
        "<b>------------------------------------------------------------------------------------------------------------------------------------------------------------------------------------------------------------------"
      ]
    },
    {
      "cell_type": "markdown",
      "id": "35aab51c",
      "metadata": {
        "id": "35aab51c"
      },
      "source": [
        "<b>Number 11 - \n",
        "- Question -\n",
        "> Print the English version of the French word chien using f2e.\n",
        "\n",
        "- Answer -\n",
        ">\n",
        "\n",
        "    \n"
      ]
    },
    {
      "cell_type": "code",
      "execution_count": null,
      "id": "06e9f042",
      "metadata": {
        "id": "06e9f042",
        "outputId": "eae8e2a7-4654-4c74-c133-51f8e75b4964"
      },
      "outputs": [
        {
          "data": {
            "text/plain": [
              "'dog'"
            ]
          },
          "execution_count": 20,
          "metadata": {},
          "output_type": "execute_result"
        }
      ],
      "source": [
        "f2e['chien']"
      ]
    },
    {
      "cell_type": "markdown",
      "id": "05ed78ea",
      "metadata": {
        "id": "05ed78ea"
      },
      "source": [
        "<b>------------------------------------------------------------------------------------------------------------------------------------------------------------------------------------------------------------------"
      ]
    },
    {
      "cell_type": "markdown",
      "id": "27b9f63d",
      "metadata": {
        "id": "27b9f63d"
      },
      "source": [
        "<b>Number 12 - \n",
        "- Question -\n",
        "> Make and print a set of English words from the keys in e2f.\n",
        "\n",
        "- Answer -\n",
        ">\n",
        "\n",
        "    \n"
      ]
    },
    {
      "cell_type": "code",
      "execution_count": null,
      "id": "4ce3561a",
      "metadata": {
        "id": "4ce3561a",
        "outputId": "8df7ce0c-af87-482b-c222-f70d20627512"
      },
      "outputs": [
        {
          "data": {
            "text/plain": [
              "{'cat', 'dog', 'walrus'}"
            ]
          },
          "execution_count": 21,
          "metadata": {},
          "output_type": "execute_result"
        }
      ],
      "source": [
        "set(e2f.keys())"
      ]
    },
    {
      "cell_type": "markdown",
      "id": "81526330",
      "metadata": {
        "id": "81526330"
      },
      "source": [
        "<b>------------------------------------------------------------------------------------------------------------------------------------------------------------------------------------------------------------------"
      ]
    },
    {
      "cell_type": "markdown",
      "id": "8ff8091d",
      "metadata": {
        "id": "8ff8091d"
      },
      "source": [
        "<b>Number 13 - \n",
        "- Question -\n",
        "> Make a multilevel dictionary called life. Use these strings for the topmost keys: 'animals', 'plants', and 'other'. Make the 'animals' key refer to another dictionary with the keys 'cats', 'octopi', and 'emus'. Make the 'cats' key refer to a list of strings with the values 'Henri', 'Grumpy', and 'Lucy'. Make all the other keys refer to empty dictionaries.\n",
        "\n",
        "- Answer -\n",
        ">\n",
        "\n",
        "    \n"
      ]
    },
    {
      "cell_type": "code",
      "execution_count": null,
      "id": "158b2a18",
      "metadata": {
        "id": "158b2a18",
        "outputId": "7925452c-b845-4e5c-8f84-32647c89cf39"
      },
      "outputs": [
        {
          "data": {
            "text/plain": [
              "{'animals': {'cats': ['Henri', 'Grumpy', 'Lucy'], 'octopi': {}, 'emus': {}},\n",
              " 'plants': {},\n",
              " 'other': {}}"
            ]
          },
          "execution_count": 24,
          "metadata": {},
          "output_type": "execute_result"
        }
      ],
      "source": [
        "life = {'animals': {'cats': ['Henri', 'Grumpy', 'Lucy'],'octopi': {},'emus': {}},'plants': {},'other': {}}\n",
        "life"
      ]
    },
    {
      "cell_type": "markdown",
      "id": "dd43d27c",
      "metadata": {
        "id": "dd43d27c"
      },
      "source": [
        "<b>------------------------------------------------------------------------------------------------------------------------------------------------------------------------------------------------------------------"
      ]
    },
    {
      "cell_type": "markdown",
      "id": "4024801f",
      "metadata": {
        "id": "4024801f"
      },
      "source": [
        "<b>Number 14 - \n",
        "- Question -\n",
        "> Print the top-level keys of life.\n",
        "\n",
        "- Answer -\n",
        ">\n",
        "\n",
        "    \n"
      ]
    },
    {
      "cell_type": "code",
      "execution_count": null,
      "id": "98283d5a",
      "metadata": {
        "id": "98283d5a",
        "outputId": "ba638230-2815-4464-c3a0-4dd55a624750"
      },
      "outputs": [
        {
          "name": "stdout",
          "output_type": "stream",
          "text": [
            "dict_keys(['animals', 'plants', 'other'])\n"
          ]
        }
      ],
      "source": [
        "print(life.keys())"
      ]
    },
    {
      "cell_type": "markdown",
      "id": "dc63df05",
      "metadata": {
        "id": "dc63df05"
      },
      "source": [
        "<b>------------------------------------------------------------------------------------------------------------------------------------------------------------------------------------------------------------------"
      ]
    },
    {
      "cell_type": "markdown",
      "id": "0cd5172b",
      "metadata": {
        "id": "0cd5172b"
      },
      "source": [
        "<b>Number 15 - \n",
        "- Question -\n",
        "> Print the keys for life['animals'].\n",
        "\n",
        "- Answer -\n",
        ">\n",
        "\n",
        "    \n"
      ]
    },
    {
      "cell_type": "code",
      "execution_count": null,
      "id": "dc99aeb8",
      "metadata": {
        "id": "dc99aeb8",
        "outputId": "181a76f6-8c17-4d5c-9080-871eb6c69c19"
      },
      "outputs": [
        {
          "name": "stdout",
          "output_type": "stream",
          "text": [
            "dict_keys(['cats', 'octopi', 'emus'])\n"
          ]
        }
      ],
      "source": [
        "print(life['animals'].keys())"
      ]
    },
    {
      "cell_type": "markdown",
      "id": "115566fe",
      "metadata": {
        "id": "115566fe"
      },
      "source": [
        "<b>------------------------------------------------------------------------------------------------------------------------------------------------------------------------------------------------------------------"
      ]
    },
    {
      "cell_type": "markdown",
      "id": "52ee36c1",
      "metadata": {
        "id": "52ee36c1"
      },
      "source": [
        "<b>Number 16 - \n",
        "- Question -\n",
        "> Print the values for life['animals']['cats']\n",
        "\n",
        "- Answer -\n",
        ">\n",
        "\n",
        "    \n"
      ]
    },
    {
      "cell_type": "code",
      "execution_count": null,
      "id": "0d928dda",
      "metadata": {
        "id": "0d928dda",
        "outputId": "f28f8010-0d6c-40f1-8e0a-0d5ed95490f2"
      },
      "outputs": [
        {
          "name": "stdout",
          "output_type": "stream",
          "text": [
            "['Henri', 'Grumpy', 'Lucy']\n"
          ]
        }
      ],
      "source": [
        "print(life['animals']['cats'])"
      ]
    },
    {
      "cell_type": "markdown",
      "id": "603d6bf2",
      "metadata": {
        "id": "603d6bf2"
      },
      "source": [
        "<b>------------------------------------------------------------------------------------------------------------------------------------------------------------------------------------------------------------------"
      ]
    }
  ],
  "metadata": {
    "kernelspec": {
      "display_name": "Python 3",
      "language": "python",
      "name": "python3"
    },
    "language_info": {
      "codemirror_mode": {
        "name": "ipython",
        "version": 3
      },
      "file_extension": ".py",
      "mimetype": "text/x-python",
      "name": "python",
      "nbconvert_exporter": "python",
      "pygments_lexer": "ipython3",
      "version": "3.8.8"
    },
    "toc": {
      "base_numbering": 1,
      "nav_menu": {},
      "number_sections": true,
      "sideBar": true,
      "skip_h1_title": false,
      "title_cell": "Table of Contents",
      "title_sidebar": "Contents",
      "toc_cell": false,
      "toc_position": {},
      "toc_section_display": true,
      "toc_window_display": false
    },
    "colab": {
      "provenance": []
    }
  },
  "nbformat": 4,
  "nbformat_minor": 5
}